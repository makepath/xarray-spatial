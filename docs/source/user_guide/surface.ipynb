{
 "cells": [
  {
   "cell_type": "markdown",
   "metadata": {},
   "source": [
    "## Surface\n",
    "\n",
    "With the Surface tools, you can quantify and visualize a terrain landform represented by a digital elevation model.\n",
    "\n",
    "Starting with a raster elevation surface that represented as an Xarray DataArray, these tools help you in identifying some specific patterns that were not readily apparent in the original surface. Return of each function is also an Xarray DataArray.\n",
    "\n",
    "[Hillshade](#Hillshade): Creates a shaded relief from a surface raster by considering the illumination source angle and shadows.\n",
    "\n",
    "[Slope](#Slope): Identifies the slope from each cell of a raster.\n",
    "\n",
    "[Curvature](#Curvature): Calculates the curvature of a raster surface.\n",
    "\n",
    "[Aspect](#Aspect): Derives the aspect from each cell of a raster surface.\n",
    "\n",
    "[Viewshed](#Viewshed): Determines visible locations in the input raster surface from a viewpoint with some optional observer features."
   ]
  },
  {
   "cell_type": "markdown",
   "metadata": {},
   "source": [
    "### Importing Packages"
   ]
  },
  {
   "cell_type": "code",
   "execution_count": null,
   "metadata": {},
   "outputs": [],
   "source": [
    "import numpy as np\n",
    "import datashader as ds\n",
    "from datashader.transfer_functions import shade\n",
    "from datashader.transfer_functions import stack\n",
    "from datashader.transfer_functions import dynspread\n",
    "from datashader.transfer_functions import set_background\n",
    "from datashader.colors import Elevation\n",
    "import pandas as pd\n",
    "\n",
    "import xrspatial"
   ]
  },
  {
   "cell_type": "markdown",
   "metadata": {},
   "source": [
    "### Generate Terrain Data\n",
    "\n",
    "The rest of the geo-related functions focus on raster data (or rasterized data, after a previous Datashader step that returns an Xarray object). To demonstrate using these raster-based functions, let's generate some fake terrain as an elevation raster:"
   ]
  },
  {
   "cell_type": "code",
   "execution_count": null,
   "metadata": {},
   "outputs": [],
   "source": [
    "from xrspatial import generate_terrain\n",
    "\n",
    "W = 800\n",
    "H = 600\n",
    "\n",
    "cvs = ds.Canvas(plot_width=W, plot_height=H, x_range=(-20e6, 20e6), y_range=(-20e6, 20e6))\n",
    "terrain = generate_terrain(canvas=cvs)\n",
    "\n",
    "shade(terrain, cmap=['black', 'white'], how='linear')"
   ]
  },
  {
   "cell_type": "markdown",
   "metadata": {},
   "source": [
    "The grayscale value above shows the elevation linearly in intensity (with the large black areas indicating low elevation), but it will look more like a landscape if we map the lowest values to colors representing water, and the highest to colors representing mountaintops:"
   ]
  },
  {
   "cell_type": "code",
   "execution_count": null,
   "metadata": {},
   "outputs": [],
   "source": [
    "shade(terrain, cmap=Elevation, how='linear')"
   ]
  },
  {
   "cell_type": "markdown",
   "metadata": {},
   "source": [
    "### Hillshade\n",
    "\n",
    "[Hillshade](https://en.wikipedia.org/wiki/Terrain_cartography) is a technique used to visualize terrain as shaded relief, illuminating it with a hypothetical light source. The illumination value for each cell is determined by its orientation to the light source, which is based on slope and aspect."
   ]
  },
  {
   "cell_type": "code",
   "execution_count": null,
   "metadata": {},
   "outputs": [],
   "source": [
    "from xrspatial import hillshade\n",
    "\n",
    "illuminated = hillshade(terrain)\n",
    "\n",
    "shade(illuminated, cmap=['gray', 'white'], alpha=255, how='linear')"
   ]
  },
  {
   "cell_type": "markdown",
   "metadata": {},
   "source": [
    "You can combine hillshading with elevation colormapping to convey differences in terrain with elevation:"
   ]
  },
  {
   "cell_type": "code",
   "execution_count": null,
   "metadata": {},
   "outputs": [],
   "source": [
    "stack(shade(illuminated, cmap=['gray', 'white'], alpha=255, how='linear'),\n",
    "      shade(terrain,     cmap=Elevation,         alpha=128, how='linear'))"
   ]
  },
  {
   "cell_type": "markdown",
   "metadata": {},
   "source": [
    "### Slope\n",
    "[Slope](https://en.wikipedia.org/wiki/Slope) is the inclination of a surface. \n",
    "In geography, *slope* is amount of change in elevation of a terrain regarding its surroundings.\n",
    "\n",
    "Datashader's slope function returns slope in degrees.  Below we highlight areas at risk for avalanche by looking at [slopes around 38 degrees](http://wenatcheeoutdoors.org/2016/04/07/avalanche-abcs-for-snowshoers/)."
   ]
  },
  {
   "cell_type": "code",
   "execution_count": null,
   "metadata": {},
   "outputs": [],
   "source": [
    "from xrspatial import slope\n",
    "\n",
    "risky = slope(terrain)\n",
    "risky.data = np.where(np.logical_and(risky.data > 25, risky.data < 50), 1, np.nan)\n",
    "\n",
    "stack(shade(terrain,     cmap=['black', 'white'], how='linear'),\n",
    "      shade(illuminated, cmap=['black', 'white'], how='linear', alpha=128),\n",
    "      shade(risky,       cmap='red',              how='linear', alpha=200))"
   ]
  },
  {
   "cell_type": "markdown",
   "metadata": {},
   "source": [
    "### Curvature\n",
    "[Curvature](https://desktop.arcgis.com/en/arcmap/10.3/tools/spatial-analyst-toolbox/curvature.htm) is the second derivative of the surface, or the slope-of-the-slope.\n",
    "- A positive curvature indicates the surface is upwardly convex at that cell. \n",
    "- A negative curvature indicates the surface is upwardly concave at that cell. \n",
    "- A value of 0 indicates the surface is flat.\n",
    "\n",
    "Units of the curvature output raster are one hundredth (1/100) of a z-unit. The reasonably expected values of all three output rasters for a hilly area (moderate relief) can vary from -0.5 to 0.5; while for steep, rugged mountains (extreme relief), the values can vary between -4 and 4. Note that it is possible to exceed this range for certain raster surfaces."
   ]
  },
  {
   "cell_type": "code",
   "execution_count": null,
   "metadata": {},
   "outputs": [],
   "source": [
    "from xrspatial import curvature\n",
    "\n",
    "curv = curvature(terrain)\n",
    "\n",
    "curv.data = np.where(np.logical_and(curv.data > 1e-06, curv.data < 2e-06), 1, np.nan)\n",
    "\n",
    "stack(shade(terrain,     cmap=['black', 'white'], how='linear'),\n",
    "      shade(illuminated, cmap=['black', 'white'], how='linear', alpha=128),\n",
    "      shade(curv,        cmap='green',              how='linear', alpha=200))"
   ]
  },
  {
   "cell_type": "markdown",
   "metadata": {},
   "source": [
    "### Aspect\n",
    "\n",
    "[Aspect](https://en.wikipedia.org/wiki/Aspect_(geography)) is the orientation of slope, measured clockwise in degrees from 0 to 360, where 0 is north-facing, 90 is east-facing, 180 is south-facing, and 270 is west-facing.\n",
    "\n",
    "Below, we look to find slopes that face close to North."
   ]
  },
  {
   "cell_type": "code",
   "execution_count": null,
   "metadata": {},
   "outputs": [],
   "source": [
    "from xrspatial import aspect\n",
    "\n",
    "north_faces = aspect(terrain)\n",
    "north_faces.data = np.where(np.logical_or(north_faces.data > 350 ,\n",
    "                                          north_faces.data < 10), 1, np.nan)\n",
    "\n",
    "stack(shade(terrain,     cmap=['black', 'white'], how='linear'),\n",
    "      shade(illuminated, cmap=['black', 'white'], how='linear', alpha=128),\n",
    "      shade(north_faces, cmap=['aqua'],           how='linear', alpha=100))"
   ]
  },
  {
   "cell_type": "markdown",
   "metadata": {},
   "source": [
    "### Viewshed\n",
    "\n",
    "The `xrspatial.viewshed` function operates on a given aggregate to calculate the viewshed (the visible cells in the raster) for the given viewpoint (observer) location.  \n",
    "\n",
    "The visibility model is the following: Two cells are visible to each other if the line of sight that connects their centers does not intersect the terrain. If the line of sight does not pass through the cell center, elevation is determined using bilinear interpolation."
   ]
  },
  {
   "cell_type": "markdown",
   "metadata": {},
   "source": [
    "#### Simple Viewshed Example\n",
    "\n",
    "- The example below creates a datashader aggregate from a 2d normal distribution.\n",
    "- To calculate the viewshed, we need an observer location.\n",
    "- This location is indicated by the orange point in the upper-left of the plot."
   ]
  },
  {
   "cell_type": "code",
   "execution_count": null,
   "metadata": {},
   "outputs": [],
   "source": [
    "from xrspatial import viewshed\n",
    "\n",
    "OBSERVER_X = -12.5\n",
    "OBSERVER_Y = 10\n",
    "\n",
    "canvas = ds.Canvas(plot_width=W, plot_height=H,\n",
    "                   x_range=(-20, 20), y_range=(-20, 20))\n",
    "\n",
    "normal_df = pd.DataFrame({\n",
    "   'x': np.random.normal(.5, 1, 10000000),\n",
    "   'y': np.random.normal(.5, 1, 10000000)\n",
    "})\n",
    "normal_agg = canvas.points(normal_df, 'x', 'y')\n",
    "normal_agg.values = normal_agg.values.astype(\"float64\")\n",
    "normal_shaded = shade(normal_agg)\n",
    "\n",
    "observer_df = pd.DataFrame({'x': [OBSERVER_X], 'y': [OBSERVER_Y]})\n",
    "observer_agg = canvas.points(observer_df, 'x', 'y')\n",
    "observer_shaded = dynspread(shade(observer_agg, cmap=['orange']),\n",
    "                            threshold=1, max_px=4)\n",
    "\n",
    "normal_illuminated = hillshade(normal_agg)\n",
    "normal_illuminated_shaded = shade(normal_illuminated, cmap=['black', 'white'], \n",
    "                                  alpha=128, how='linear')\n",
    "\n",
    "stack(normal_illuminated_shaded, observer_shaded)"
   ]
  },
  {
   "cell_type": "markdown",
   "metadata": {},
   "source": [
    "#### Calculate viewshed using the observer location"
   ]
  },
  {
   "cell_type": "code",
   "execution_count": null,
   "metadata": {},
   "outputs": [],
   "source": [
    "# Will take some time to run...\n",
    "%time view = viewshed(normal_agg, x=OBSERVER_X, y=OBSERVER_Y)\n",
    "\n",
    "view_shaded = shade(view, cmap=['white', 'red'], alpha=128, how='linear')\n",
    "\n",
    "stack(normal_illuminated_shaded, observer_shaded, view_shaded)                         "
   ]
  },
  {
   "cell_type": "markdown",
   "metadata": {},
   "source": [
    "#### Viewshed on Terrain\n",
    "\n",
    "- Let's take the example above and apply it to our terrain aggregate.\n",
    "- Notice the use of the `observer_elev` argument, which is the height of the observer above the terrain."
   ]
  },
  {
   "cell_type": "code",
   "execution_count": null,
   "metadata": {},
   "outputs": [],
   "source": [
    "from xrspatial import viewshed\n",
    "\n",
    "\n",
    "cvs = ds.Canvas(plot_width=W, plot_height=H, x_range=(-20e6, 20e6), y_range=(-20e6, 20e6))\n",
    "terrain = generate_terrain(canvas=cvs)\n",
    "terrain_shaded = shade(terrain, cmap=Elevation, alpha=128, how='linear')\n",
    "\n",
    "illuminated = hillshade(terrain)\n",
    "\n",
    "OBSERVER_X = 0.0\n",
    "OBSERVER_Y = 0.0\n",
    "\n",
    "observer_df = pd.DataFrame({'x': [OBSERVER_X],'y': [OBSERVER_Y]})\n",
    "observer_agg = cvs.points(observer_df, 'x', 'y')\n",
    "observer_shaded = dynspread(shade(observer_agg, cmap=['orange']),\n",
    "                            threshold=1, max_px=4)\n",
    "\n",
    "stack(shade(illuminated, cmap=['black', 'white'], alpha=128, how='linear'),\n",
    "      terrain_shaded,\n",
    "      observer_shaded)"
   ]
  },
  {
   "cell_type": "code",
   "execution_count": null,
   "metadata": {},
   "outputs": [],
   "source": [
    "%time view = viewshed(terrain, x=OBSERVER_X, y=OBSERVER_Y, observer_elev=100)\n",
    "\n",
    "view_shaded = shade(view, cmap='fuchsia', how='linear')\n",
    "stack(shade(illuminated, cmap=['black', 'white'], alpha=128, how='linear'),\n",
    "      terrain_shaded,\n",
    "      view_shaded,\n",
    "      observer_shaded)"
   ]
  },
  {
   "cell_type": "markdown",
   "metadata": {},
   "source": [
    "The fuchsia areas are those visible to an observer of the given height at the indicated orange location."
   ]
  },
  {
   "cell_type": "markdown",
   "metadata": {},
   "source": [
    "### References\n",
    "- An overview of the Surface toolset: https://pro.arcgis.com/en/pro-app/tool-reference/spatial-analyst/an-overview-of-the-surface-tools.htm\n",
    "- Burrough, P. A., and McDonell, R. A., 1998. Principles of Geographical Information Systems (Oxford University Press, New York), p. 406.\n",
    "- Making Maps with Noise Functions: https://www.redblobgames.com/maps/terrain-from-noise/\n",
    "- How Aspect Works: http://desktop.arcgis.com/en/arcmap/10.3/tools/spatial-analyst-toolbox/how-aspect-works.htm#ESRI_SECTION1_4198691F8852475A9F4BC71246579FAA"
   ]
  }
 ],
 "metadata": {
  "kernelspec": {
   "display_name": "Python 3",
   "language": "python",
   "name": "python3"
  },
  "language_info": {
   "codemirror_mode": {
    "name": "ipython",
    "version": 3
   },
   "file_extension": ".py",
   "mimetype": "text/x-python",
   "name": "python",
   "nbconvert_exporter": "python",
   "pygments_lexer": "ipython3",
   "version": "3.8.8"
  }
 },
 "nbformat": 4,
 "nbformat_minor": 2
}
