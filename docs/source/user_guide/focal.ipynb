{
 "cells": [
  {
   "cell_type": "markdown",
   "metadata": {},
   "source": [
    "## Focal"
   ]
  },
  {
   "cell_type": "markdown",
   "metadata": {},
   "source": [
    "### Importing Packages"
   ]
  },
  {
   "cell_type": "markdown",
   "metadata": {},
   "source": [
    "To get started, we'll import numpy and xarray-spatial, along with datashader and a set of its functions to help us quickly render images."
   ]
  },
  {
   "cell_type": "code",
   "execution_count": null,
   "metadata": {},
   "outputs": [],
   "source": [
    "import numpy as np\n",
    "import datashader as ds\n",
    "from datashader.transfer_functions import shade\n",
    "from datashader.transfer_functions import stack\n",
    "from datashader.transfer_functions import dynspread\n",
    "from datashader.transfer_functions import set_background\n",
    "from datashader.colors import Elevation\n",
    "\n",
    "import xrspatial"
   ]
  },
  {
   "cell_type": "markdown",
   "metadata": {},
   "source": [
    "### Generate Terrain Data\n",
    "\n",
    "The rest of the geo-related functions work with raster data - or rasterized data, i.e. data that's been aggregated into the regular row-column grid pattern of a raster. In the code below, the datashader Canvas object helps us do this aggregation and returns a raster in the format of an xarray DataArray. \n",
    "\n",
    "To demonstrate using these raster-based functions, let's generate some fake terrain as an elevation raster (or *digital elevation model* (dem):"
   ]
  },
  {
   "cell_type": "code",
   "execution_count": null,
   "metadata": {},
   "outputs": [],
   "source": [
    "from xrspatial import generate_terrain\n",
    "\n",
    "W = 800\n",
    "H = 600\n",
    "\n",
    "cvs = ds.Canvas(plot_width=W, plot_height=H, x_range=(-20e6, 20e6), y_range=(-20e6, 20e6))\n",
    "terrain = generate_terrain(canvas=cvs)\n",
    "\n",
    "shade(terrain, cmap=['black', 'white'], how='linear')"
   ]
  },
  {
   "cell_type": "markdown",
   "metadata": {},
   "source": [
    "The grayscale values above show the elevation, scaled linearly in intensity from dark to bright white (with the large black areas being low elevation). This gives us a glimpse of a fair amount of detail, but we could make it more intuitive by shading it like a landscape. \n",
    "\n",
    "- Datashader's Set1 maps low values to colors representing water and high ones to colors representing mountaintops, with a range of landscape color in between. \n",
    "- We'll apply this, but first we'll also apply xarray-spatial's hillshade to give an illuminated representation."
   ]
  },
  {
   "cell_type": "code",
   "execution_count": null,
   "metadata": {},
   "outputs": [],
   "source": [
    "from xrspatial import hillshade\n",
    "from datashader.colors import Set1\n",
    "import pandas as pd\n",
    "\n",
    "cvs = ds.Canvas(plot_width=W, plot_height=H, x_range=(-20, 20), y_range=(-20, 20))\n",
    "\n",
    "terrain = generate_terrain(canvas=cvs)\n",
    "terrain_shaded = shade(terrain, cmap=Elevation, alpha=128, how='linear')\n",
    "\n",
    "illuminated = hillshade(terrain)\n",
    "illuminated_shaded = shade(illuminated, cmap=['gray', 'white'], alpha=255, how='linear')\n",
    "\n",
    "stack(illuminated_shaded, terrain_shaded)"
   ]
  },
  {
   "cell_type": "markdown",
   "metadata": {},
   "source": [
    "### Focal Statistics and Convolutions\n",
    "\n",
    "Similar to zonal statistics, focal statistics are used to calculate local statistics, but relative to a _focal_ point and a given neighborhood. The neighborhood is a user-defined kernel representing the cells which should be used in calculations. Currently, only circle and annulus kernels are implemented, but any custom kernel can be used given that:\n",
    "- The kernel is a `numpy` array\n",
    "- The kernel's dimensions are odd, so a `3x1` kernel is valid while a `3x2` is not. This is required for symmetry around the focal point in the current implementation.\n",
    "\n",
    "The following example uses focal statistics to calculate the [topographic position index (TPI)](http://www.jennessent.com/downloads/tpi-poster-tnc_18x22.pdf), a measure of local topographic position relative to nearby neighbors. The TPI is scale-dependent and will vary based on the inner and outer radii chosen for the annulus kernel used for this calculation. Once calculated, the TPI can be used to classify slope positions and landforms within landscapes, and can also be used as a numeric feature for model inputs."
   ]
  },
  {
   "cell_type": "markdown",
   "metadata": {},
   "source": [
    "- First, we use focal's calc_cellsize to get the scaling right.\n",
    "- Next, we multiply by a larger and smaller integer for the outer and inner annulus radii, respectively.\n",
    "- Then, we generate the kernel with annulus_kernel.\n",
    "- And, finally, we use that kernel with focal.apply to calculate the TPI at each point in the terrain.\n",
    "- To visualize all this, we can shade the TPI and stack it in a composite image with the original terrain. "
   ]
  },
  {
   "cell_type": "code",
   "execution_count": null,
   "metadata": {},
   "outputs": [],
   "source": [
    "from xrspatial import focal\n",
    "\n",
    "cellsize_x, cellsize_y = focal.calc_cellsize(terrain)\n",
    "# Use an annulus kernel with a ring at a distance from 25-30 cells away from focal point\n",
    "outer_radius = cellsize_x * 30\n",
    "inner_radius = cellsize_x * 25\n",
    "kernel = focal.annulus_kernel(cellsize_x, cellsize_y, outer_radius, inner_radius)\n",
    "tpi = terrain - focal.apply(terrain, kernel)\n",
    "tpi_terrain = hillshade(terrain - focal.apply(terrain, kernel))\n",
    "tpi_terrain_shaded = shade(\n",
    "    tpi_terrain, cmap=[\"white\", \"black\"], alpha=255, how=\"linear\"\n",
    ")\n",
    "stack(illuminated_shaded, tpi_terrain_shaded)"
   ]
  },
  {
   "cell_type": "markdown",
   "metadata": {},
   "source": [
    "#### Convolutions\n",
    "\n",
    "The `focal.apply` function can be computationally expensive depending on the size of the kernal and image. Additionally, we'd also like to extend focal's ability to using custom convolution kernels on the raster.  \n",
    "\n",
    "For example, we may want to apply some [kernels from image processing](https://en.wikipedia.org/wiki/Kernel_(image_processing)). Below, we'll use one of them, called the [Sobel operator](https://en.wikipedia.org/wiki/Sobel_operator), which is a crude, but computationally inexpensive way to do edge-detection. For the horizontal operator, an approximation of the derivative in the horizontal dimension is calculated, so we'll set up a kernel below to do that.\n",
    "\n",
    "(Note: By default, the `convolution` module will use the local CUDA-enabled GPU unit if it is available. To use only the CPU, you can pass `use_cuda=False` to `convolution.convolve_2d`.)"
   ]
  },
  {
   "cell_type": "markdown",
   "metadata": {},
   "source": [
    "- First, we'll set up a horizontal Sobel kernel manually as a 2D numpy array.  \n",
    "    Notice the vertical column of zeros and the symmetry on either side of this column.\n",
    "- Next, we'll apply this kernel to the terrain values to generate a corresponding array of Sobel values.\n",
    "- Finally, we'll set those values into a DataArray raster with the proper coordinates, dimensions, and attributes from the terrain.  \n",
    "- To visualize all this, we'll apply hillshade and shade to the sobel terrain and stack it in an image with the original.\n",
    "\n",
    "Notice all the emphasized horizontal edges. (You can also edit the kernel numbers below to make it vertical and see the vertical edges emphasized, instead.)"
   ]
  },
  {
   "cell_type": "code",
   "execution_count": null,
   "metadata": {},
   "outputs": [],
   "source": [
    "from xrspatial import convolution\n",
    "from xarray import DataArray\n",
    "\n",
    "# Use Sobel operator\n",
    "kernel = np.array([[1, 0, -1], [2, 0, -2], [1, 0, -1]])\n",
    "display(kernel)\n",
    "sobel_values = convolution.convolve_2d(terrain.values, kernel)\n",
    "sobel = DataArray(\n",
    "    sobel_values,\n",
    "    coords=terrain.coords,\n",
    "    dims=terrain.dims,\n",
    "    attrs=terrain.attrs,\n",
    ")\n",
    "sobel_terrain = hillshade(sobel)\n",
    "sobel_terrain_shaded = shade(\n",
    "    sobel_terrain, cmap=[\"white\", \"black\"], alpha=255, how=\"linear\"\n",
    ")\n",
    "stack(illuminated_shaded, sobel_terrain_shaded)"
   ]
  }
 ],
 "metadata": {
  "kernelspec": {
   "display_name": "Python 3",
   "language": "python",
   "name": "python3"
  },
  "language_info": {
   "codemirror_mode": {
    "name": "ipython",
    "version": 3
   },
   "file_extension": ".py",
   "mimetype": "text/x-python",
   "name": "python",
   "nbconvert_exporter": "python",
   "pygments_lexer": "ipython3",
   "version": "3.8.8"
  }
 },
 "nbformat": 4,
 "nbformat_minor": 2
}
