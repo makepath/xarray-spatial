{
 "cells": [
  {
   "cell_type": "markdown",
   "id": "e9045413",
   "metadata": {},
   "source": [
    "## Xarray-spatial local tools functions"
   ]
  },
  {
   "cell_type": "markdown",
   "id": "b9c4ed8c",
   "metadata": {},
   "source": [
    "### Sample data"
   ]
  },
  {
   "cell_type": "code",
   "execution_count": 1,
   "id": "c7945275",
   "metadata": {},
   "outputs": [],
   "source": [
    "import numpy as np\n",
    "import xarray as xr\n",
    "\n",
    "arr1 = xr.DataArray([[1, 1, 0, 0],\n",
    "                     [np.nan, 1, 2, 2],\n",
    "                     [4, 0, 0, 2],\n",
    "                     [4, 0, 1, 1]], name='arr1')\n",
    "\n",
    "arr2 = xr.DataArray([[0, 1, 1, 0],\n",
    "                     [3, 3, 1, 2],\n",
    "                     [np.nan, 0, 0, 2],\n",
    "                     [3, 2, 1, 0]], name='arr2')\n",
    "\n",
    "arr3 = xr.DataArray([[np.nan, 1, 0, 0],\n",
    "                     [2, 0, 3, 3],\n",
    "                     [0, 0, 3, 2],\n",
    "                     [1, 1, np.nan, 0]], name='arr3')\n",
    "\n",
    "raster_ds = xr.merge([arr1, arr2, arr3])"
   ]
  },
  {
   "cell_type": "markdown",
   "id": "d12080a6",
   "metadata": {},
   "source": [
    "### Helping functions"
   ]
  },
  {
   "cell_type": "code",
   "execution_count": 2,
   "id": "9ce0bf94",
   "metadata": {},
   "outputs": [],
   "source": [
    "import matplotlib.pyplot as plt\n",
    "\n",
    "def plot_three_arrays(arr1, arr2, arr3):\n",
    "    fig, ax = plt.subplots(nrows=1, ncols=3, figsize=(15, 10))\n",
    "\n",
    "    title_list = ['arr1', 'arr2', 'result']\n",
    "    \n",
    "    for idx, arr in zip(range(0,3), [arr1, arr2, arr3]):\n",
    "        for i in range(arr.shape[0]):\n",
    "            for j in range(arr.shape[1]):\n",
    "                text = ax[idx].text(j, i, int(arr.data[i, j]) if str(arr.data[i, j]) != 'nan' else np.nan,\n",
    "                               ha='center', va='center', color='black')\n",
    "\n",
    "        ax[idx].imshow(arr.values, cmap='tab20c_r')\n",
    "        ax[idx].set_xticks([])\n",
    "        ax[idx].set_yticks([])\n",
    "        ax[idx].set_title(title_list[idx])\n",
    "\n",
    "    plt.show()\n",
    "\n",
    "\n",
    "def plot_four_arrays(arr1, arr2, arr3, arr4):\n",
    "    fig, ax = plt.subplots(nrows=1, ncols=4, figsize=(15, 10))\n",
    "\n",
    "    title_list = ['arr1', 'arr2', 'arr3', 'result']\n",
    "    \n",
    "    for idx, arr in zip(range(0,4), [arr1, arr2, arr3, arr4]):\n",
    "        for i in range(arr.shape[0]):\n",
    "            for j in range(arr.shape[1]):\n",
    "                text = ax[idx].text(j, i, int(arr.data[i, j]) if str(arr.data[i, j]) != 'nan' else np.nan,\n",
    "                               ha='center', va='center', color='black')\n",
    "\n",
    "        ax[idx].imshow(arr.values, cmap='tab20c_r')\n",
    "        ax[idx].set_xticks([])\n",
    "        ax[idx].set_yticks([])\n",
    "        ax[idx].set_title(title_list[idx])\n",
    "\n",
    "    plt.show()\n",
    "\n",
    "\n",
    "def plot_five_arrays(arr1, arr2, arr3, arr4, arr5):\n",
    "    fig, ax = plt.subplots(nrows=1, ncols=5, figsize=(15, 10))\n",
    "\n",
    "    title_list = ['arr_ref', 'arr1', 'arr2', 'arr3', 'result']\n",
    "    \n",
    "    for idx, arr in zip(range(0,5), [arr1, arr2, arr3, arr4, arr5]):\n",
    "        for i in range(arr.shape[0]):\n",
    "            for j in range(arr.shape[1]):\n",
    "                text = ax[idx].text(j, i, int(arr.data[i, j]) if str(arr.data[i, j]) != 'nan' else np.nan,\n",
    "                               ha='center', va='center', color='black')\n",
    "\n",
    "        ax[idx].imshow(arr.values, cmap='tab20c_r')\n",
    "        ax[idx].set_xticks([])\n",
    "        ax[idx].set_yticks([])\n",
    "        ax[idx].set_title(title_list[idx])\n",
    "\n",
    "    plt.show()"
   ]
  },
  {
   "cell_type": "markdown",
   "id": "b8008262",
   "metadata": {},
   "source": [
    "### Combine"
   ]
  },
  {
   "cell_type": "markdown",
   "id": "87c34a83",
   "metadata": {},
   "source": [
    "`xrspatial.local.combine` allow the combination of dimensions given a `xarray.Dataset` so that a unique output value is assigned to each unique combination."
   ]
  },
  {
   "cell_type": "code",
   "execution_count": 3,
   "id": "7f1b3bfa",
   "metadata": {},
   "outputs": [
    {
     "data": {
      "image/png": "[encoded data removed]",
      "text/plain": [
       "<Figure size 1080x720 with 3 Axes>"
      ]
     },
     "metadata": {},
     "output_type": "display_data"
    }
   ],
   "source": [
    "from xrspatial.local import combine\n",
    "\n",
    "combined_arr = combine(raster_ds[['arr1', 'arr2']])\n",
    "\n",
    "plot_three_arrays(raster_ds['arr1'], raster_ds['arr2'], combined_arr)"
   ]
  },
  {
   "cell_type": "markdown",
   "id": "395d0902",
   "metadata": {},
   "source": [
    "### Equal To Frequency"
   ]
  },
  {
   "cell_type": "markdown",
   "id": "68527fa7",
   "metadata": {},
   "source": [
    "`xrspatial.local.equal_frequency` evaluates on a cell-by-cell basis the number of times the values in a set of rasters are equal to another raster."
   ]
  },
  {
   "cell_type": "code",
   "execution_count": 4,
   "id": "2b06dc68",
   "metadata": {},
   "outputs": [
    {
     "data": {
      "image/png": "[encoded data removed]",
      "text/plain": [
       "<Figure size 1080x720 with 5 Axes>"
      ]
     },
     "metadata": {},
     "output_type": "display_data"
    }
   ],
   "source": [
    "from xrspatial.local import equal_frequency\n",
    "\n",
    "arr = xr.DataArray([[2, 2, 2, 2],\n",
    "                    [2, 2, 2, 2],\n",
    "                    [2, 2, 2, 2],\n",
    "                    [2, 2, 2, 2]], name='arr')\n",
    "\n",
    "input_ds = xr.merge([arr, raster_ds])\n",
    "\n",
    "result_arr = equal_frequency(input_ds, 'arr')\n",
    "\n",
    "plot_five_arrays(\n",
    "    input_ds['arr'],\n",
    "    input_ds['arr1'],\n",
    "    input_ds['arr2'],\n",
    "    input_ds['arr3'],\n",
    "    result_arr,\n",
    ")"
   ]
  },
  {
   "cell_type": "markdown",
   "id": "7a3df04f",
   "metadata": {},
   "source": [
    "### Greater Than Frequency"
   ]
  },
  {
   "cell_type": "markdown",
   "id": "07455449",
   "metadata": {},
   "source": [
    "`xrspatial.local.greater_frequency` evaluates on a cell-by-cell basis the number of times a set of rasters is greater than another raster."
   ]
  },
  {
   "cell_type": "code",
   "execution_count": 5,
   "id": "9f18bdd3",
   "metadata": {},
   "outputs": [
    {
     "data": {
      "image/png": "[encoded data removed]",
      "text/plain": [
       "<Figure size 1080x720 with 5 Axes>"
      ]
     },
     "metadata": {},
     "output_type": "display_data"
    }
   ],
   "source": [
    "from xrspatial.local import greater_frequency\n",
    "\n",
    "arr = xr.DataArray([[2, 2, 2, 2],\n",
    "                    [2, 2, 2, 2],\n",
    "                    [2, 2, 2, 2],\n",
    "                    [2, 2, 2, 2]], name='arr')\n",
    "\n",
    "input_ds = xr.merge([arr, raster_ds])\n",
    "\n",
    "result_arr = greater_frequency(input_ds, 'arr')\n",
    "\n",
    "plot_five_arrays(\n",
    "    input_ds['arr'],\n",
    "    input_ds['arr1'],\n",
    "    input_ds['arr2'],\n",
    "    input_ds['arr3'],\n",
    "    result_arr,\n",
    ")"
   ]
  },
  {
   "cell_type": "markdown",
   "id": "99c51cc4",
   "metadata": {},
   "source": [
    "### Highest Position"
   ]
  },
  {
   "cell_type": "markdown",
   "id": "f2ead294",
   "metadata": {},
   "source": [
    "`xrspatial.local.highest` determines on a cell-by-cell basis the position of the raster with the maximum value in a set of rasters."
   ]
  },
  {
   "cell_type": "code",
   "execution_count": 6,
   "id": "57568db5",
   "metadata": {},
   "outputs": [
    {
     "data": {
      "image/png": "[encoded data removed]",
      "text/plain": [
       "<Figure size 1080x720 with 4 Axes>"
      ]
     },
     "metadata": {},
     "output_type": "display_data"
    }
   ],
   "source": [
    "from xrspatial.local import highest\n",
    "\n",
    "combined_arr = highest(raster_ds)\n",
    "\n",
    "plot_four_arrays(\n",
    "    raster_ds['arr1'],\n",
    "    raster_ds['arr2'],\n",
    "    raster_ds['arr3'],\n",
    "    combined_arr,\n",
    ")"
   ]
  }
 ],
 "metadata": {
  "kernelspec": {
   "display_name": "Python 3",
   "language": "python",
   "name": "python3"
  },
  "language_info": {
   "codemirror_mode": {
    "name": "ipython",
    "version": 3
   },
   "file_extension": ".py",
   "mimetype": "text/x-python",
   "name": "python",
   "nbconvert_exporter": "python",
   "pygments_lexer": "ipython3",
   "version": "3.8.10"
  }
 },
 "nbformat": 4,
 "nbformat_minor": 5
}
