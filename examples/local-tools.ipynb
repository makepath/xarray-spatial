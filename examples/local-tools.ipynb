{
 "cells": [
  {
   "cell_type": "markdown",
   "id": "e9045413",
   "metadata": {},
   "source": [
    "## Xarray-spatial local tools functions"
   ]
  },
  {
   "cell_type": "markdown",
   "id": "b9c4ed8c",
   "metadata": {},
   "source": [
    "### Sample data"
   ]
  },
  {
   "cell_type": "code",
   "execution_count": 1,
   "id": "c7945275",
   "metadata": {},
   "outputs": [],
   "source": [
    "import numpy as np\n",
    "import xarray as xr\n",
    "\n",
    "arr1 = xr.DataArray([[1, 1, 0, 0],\n",
    "                     [np.nan, 1, 2, 2],\n",
    "                     [4, 0, 0, 2],\n",
    "                     [4, 0, 1, 1]], name='arr1')\n",
    "\n",
    "arr2 = xr.DataArray([[0, 1, 1, 0],\n",
    "                     [3, 3, 1, 2],\n",
    "                     [np.nan, 0, 0, 2],\n",
    "                     [3, 2, 1, 0]], name='arr2')\n",
    "\n",
    "arr3 = xr.DataArray([[np.nan, 1, 0, 0],\n",
    "                     [2, 0, 3, 3],\n",
    "                     [0, 0, 3, 2],\n",
    "                     [1, 1, np.nan, 0]], name='arr3')\n",
    "\n",
    "raster_ds = xr.merge([arr1, arr2, arr3])"
   ]
  },
  {
   "cell_type": "markdown",
   "id": "d12080a6",
   "metadata": {},
   "source": [
    "### Helping functions"
   ]
  },
  {
   "cell_type": "code",
   "execution_count": 2,
   "id": "9ce0bf94",
   "metadata": {},
   "outputs": [],
   "source": [
    "import matplotlib.pyplot as plt\n",
    "\n",
    "def plot_array(arr):\n",
    "    fig, ax = plt.subplots(figsize=(2, 2))\n",
    "\n",
    "    for i in range(arr.shape[0]):\n",
    "        for j in range(arr.shape[1]):\n",
    "            text = ax.text(j, i, int(arr.data[i, j]) if str(arr.data[i, j]) != 'nan' else np.nan,\n",
    "                           ha='center', va='center', color='black')\n",
    "\n",
    "    plt.imshow(arr.values, cmap='tab20c_r')\n",
    "    plt.xticks([])\n",
    "    plt.yticks([])\n",
    "    plt.show()"
   ]
  },
  {
   "cell_type": "markdown",
   "id": "b8008262",
   "metadata": {},
   "source": [
    "### Combine"
   ]
  },
  {
   "cell_type": "markdown",
   "id": "87c34a83",
   "metadata": {},
   "source": [
    "`xrspatial.local.combine` allow the combination of dimensions given a `xarray.Dataset` so that a unique output value is assigned to each unique combination."
   ]
  },
  {
   "cell_type": "code",
   "execution_count": 3,
   "id": "7f1b3bfa",
   "metadata": {},
   "outputs": [
    {
     "name": "stdout",
     "output_type": "stream",
     "text": [
      "arr1 dim\n"
     ]
    },
    {
     "data": {
      "image/png": "[encoded data removed]",
      "text/plain": [
       "<Figure size 144x144 with 1 Axes>"
      ]
     },
     "metadata": {},
     "output_type": "display_data"
    },
    {
     "name": "stdout",
     "output_type": "stream",
     "text": [
      "arr2 dim\n"
     ]
    },
    {
     "data": {
      "image/png": "[encoded data removed]",
      "text/plain": [
       "<Figure size 144x144 with 1 Axes>"
      ]
     },
     "metadata": {},
     "output_type": "display_data"
    },
    {
     "name": "stdout",
     "output_type": "stream",
     "text": [
      "combined dims\n"
     ]
    },
    {
     "data": {
      "image/png": "[encoded data removed]",
      "text/plain": [
       "<Figure size 144x144 with 1 Axes>"
      ]
     },
     "metadata": {},
     "output_type": "display_data"
    }
   ],
   "source": [
    "from xrspatial.local import combine\n",
    "\n",
    "print('arr1 dim')\n",
    "plot_array(raster_ds['arr1'])\n",
    "\n",
    "print('arr2 dim')\n",
    "plot_array(raster_ds['arr2'])\n",
    "\n",
    "print('combined dims')\n",
    "combined_arr = combine(raster_ds[['arr1', 'arr2']])\n",
    "plot_array(combined_arr)"
   ]
  }
 ],
 "metadata": {
  "kernelspec": {
   "display_name": "Python 3",
   "language": "python",
   "name": "python3"
  },
  "language_info": {
   "codemirror_mode": {
    "name": "ipython",
    "version": 3
   },
   "file_extension": ".py",
   "mimetype": "text/x-python",
   "name": "python",
   "nbconvert_exporter": "python",
   "pygments_lexer": "ipython3",
   "version": "3.8.10"
  }
 },
 "nbformat": 4,
 "nbformat_minor": 5
}
