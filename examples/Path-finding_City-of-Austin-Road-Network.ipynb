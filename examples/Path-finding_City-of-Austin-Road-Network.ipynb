{
 "cells": [
  {
   "cell_type": "code",
   "execution_count": null,
   "metadata": {},
   "outputs": [],
   "source": [
    "import xarray as xa\n",
    "import numpy as np\n",
    "import pandas as pd\n",
    "import geopandas\n",
    "\n",
    "import datashader as ds\n",
    "from datashader.transfer_functions import shade, stack, dynspread, set_background\n",
    "\n",
    "from xrspatial import a_star_search"
   ]
  },
  {
   "cell_type": "markdown",
   "metadata": {},
   "source": [
    "## Load data\n",
    "\n",
    "The road network used in this example notebook can be downloaded from:\n",
    "\n",
    "https://data.austintexas.gov/Locations-and-Maps/Street-Centerline/m5w3-uea6"
   ]
  },
  {
   "cell_type": "code",
   "execution_count": null,
   "metadata": {},
   "outputs": [],
   "source": [
    "streets = geopandas.read_file('zip://./data/Street_Centerline.zip')\n",
    "streets = streets.to_crs({'init': 'epsg:4326'})\n",
    "\n",
    "xs = []\n",
    "ys = []\n",
    "for s in streets.geometry.values:\n",
    "    try:\n",
    "        coords = s.coords.xy\n",
    "        xs += coords[0].tolist()\n",
    "        ys += coords[1].tolist()\n",
    "        \n",
    "        xs.append(np.nan)\n",
    "        ys.append(np.nan)\n",
    "    except:\n",
    "        continue\n",
    "        \n",
    "street_df = pd.DataFrame(dict(x=xs, y=ys))"
   ]
  },
  {
   "cell_type": "code",
   "execution_count": null,
   "metadata": {},
   "outputs": [],
   "source": [
    "street_df"
   ]
  },
  {
   "cell_type": "markdown",
   "metadata": {},
   "source": [
    "## Define study area (find range of x and y)"
   ]
  },
  {
   "cell_type": "code",
   "execution_count": null,
   "metadata": {},
   "outputs": [],
   "source": [
    "xmin, ymin, xmax, ymax = (streets.geometry.bounds.minx.min(),\n",
    "                          streets.geometry.bounds.miny.min(),\n",
    "                          streets.geometry.bounds.maxx.max(),\n",
    "                          streets.geometry.bounds.maxy.max())\n",
    "xrange = (xmin, xmax)\n",
    "yrange = (ymin, ymax)\n",
    "xrange, yrange"
   ]
  },
  {
   "cell_type": "code",
   "execution_count": null,
   "metadata": {},
   "outputs": [],
   "source": [
    "H, W = 600, 800\n",
    "cvs = ds.Canvas(plot_width=W, plot_height=H,\n",
    "                x_range=xrange, y_range=yrange)\n",
    "\n",
    "street_agg = cvs.line(street_df, x='x', y='y').astype(int)\n",
    "street_shaded = dynspread(shade(street_agg, cmap=['salmon']))\n",
    "\n",
    "# Pick two locations\n",
    "start = (-97.73662282, 30.08214069)\n",
    "goal = (-97.63753489650679, 30.1765660638542)\n",
    "\n",
    "location_df = pd.DataFrame({'x': [start[0], goal[0]], 'y': [start[1], goal[1]]})\n",
    "location_agg = cvs.points(location_df, 'x', 'y')\n",
    "location_shaded = dynspread(shade(location_agg, cmap=['lime']), threshold=1, max_px=5)\n",
    "\n",
    "set_background(stack(street_shaded, location_shaded), 'black')"
   ]
  },
  {
   "cell_type": "markdown",
   "metadata": {},
   "source": [
    "## Shortest path using A* from start location to goal location"
   ]
  },
  {
   "cell_type": "code",
   "execution_count": null,
   "metadata": {},
   "outputs": [],
   "source": [
    "# find the path from start to goal, \n",
    "# barriers are uncrossable cells. In this case, they are cells with a value of 0\n",
    "\n",
    "path_agg = a_star_search(street_agg, start, goal, barriers=[0], snap_start=True, snap_goal=True)\n",
    "\n",
    "path_shaded = dynspread(shade(path_agg, cmap=['green']))\n",
    "set_background(stack(street_shaded, path_shaded, location_shaded), 'black')"
   ]
  }
 ],
 "metadata": {
  "language_info": {
   "name": "python"
  }
 },
 "nbformat": 4,
 "nbformat_minor": 4
}
