{
 "cells": [
  {
   "cell_type": "markdown",
   "metadata": {},
   "source": [
    "# Mosaic from a single multitemporal dataset\n",
    "\n",
    "\n",
    "The goal of this notebook is to provide an example of how to create a cloud-free mosaic from Sentinel-2 imagery over a specific area over a time period. We first use `satsearch` to search for Sentinel-2 data then combine them together using `stackstac`. A median operation will be applied to merge the images into a single layer that could be save off into Azure blob storage as COGs for later use.\n",
    "\n",
    "\n",
    "## 1. Sentinel-2 Dataset\n",
    "\n",
    "Satellite images (also Earth observation imagery, spaceborne photography, or simply satellite photo) are images of Earth collected by imaging satellites operated by governments and businesses around the world (see https://en.wikipedia.org/wiki/Satellite_imagery). Its major applications include Earth observation and land cover monitoring. \n",
    "\n",
    "\n",
    "SENTINEL-2 (https://sentinel.esa.int/web/sentinel/user-guides/sentinel-2-msi/overview) is a wide-swath, high-resolution, multi-spectral imaging mission, supporting Copernicus Land Monitoring studies, including the monitoring of vegetation, soil and water cover, as well as observation of inland waterways and coastal areas.\n",
    "\n",
    "## 2. Imports"
   ]
  },
  {
   "cell_type": "code",
   "execution_count": null,
   "metadata": {},
   "outputs": [],
   "source": [
    "import stackstac\n",
    "from satsearch import Search\n",
    "\n",
    "import xrspatial.multispectral as ms\n",
    "\n",
    "import matplotlib.pyplot as plt"
   ]
  },
  {
   "cell_type": "markdown",
   "metadata": {},
   "source": [
    "## 3. Load Sentinel 2 data\n",
    "\n",
    "In this example, we use data from `sentinel-s2-l2a-cogs` collection within a bounding box of `[-93.112301, 29.649001, -92.075965, 30.719868]`, and the time range considered is from `2019-07-01` to `2020-06-30`. And the collected data has less than 25% cloud coverage."
   ]
  },
  {
   "cell_type": "code",
   "execution_count": null,
   "metadata": {},
   "outputs": [],
   "source": [
    "items = Search(\n",
    "    url=\"https://earth-search.aws.element84.com/v0\",\n",
    "    bbox=[-93.112301, 29.649001, -92.075965, 30.719868],\n",
    "    collections=[\"sentinel-s2-l2a-cogs\"],\n",
    "    query={'eo:cloud_cover': {'lt': 25}},\n",
    "    datetime=\"2019-07-01/2020-06-30\"\n",
    ").items()\n",
    "\n",
    "len(items)"
   ]
  },
  {
   "cell_type": "markdown",
   "metadata": {},
   "source": [
    "Let's combine all the above STAC items into a lazy xarray with following settings:\n",
    "- projection: epsg=32613\n",
    "- resolution: 100m\n",
    "- bands: green (B02), red (B03), blue (B04), NIR (B08), SWIR1 (B11)"
   ]
  },
  {
   "cell_type": "code",
   "execution_count": null,
   "metadata": {},
   "outputs": [],
   "source": [
    "bands = ['B02', 'B03', 'B04', 'B08', 'B11']\n",
    "\n",
    "stack_ds = stackstac.stack(\n",
    "    items, epsg=32613, resolution=100, assets=bands\n",
    ")\n",
    "\n",
    "stack_ds"
   ]
  },
  {
   "cell_type": "markdown",
   "metadata": {},
   "source": [
    "We can get a median composite for each month in the considered period of time:"
   ]
  },
  {
   "cell_type": "code",
   "execution_count": null,
   "metadata": {},
   "outputs": [],
   "source": [
    "monthly = stack_ds.resample(time=\"MS\").median(\"time\", keep_attrs=True)\n",
    "monthly"
   ]
  },
  {
   "cell_type": "code",
   "execution_count": null,
   "metadata": {},
   "outputs": [],
   "source": [
    "import dask.diagnostics\n",
    "with dask.diagnostics.ProgressBar():\n",
    "    monthly = monthly.compute()"
   ]
  },
  {
   "cell_type": "markdown",
   "metadata": {},
   "source": [
    "## 4. Cloud-free scene using median operator\n",
    "\n",
    "In this step, we use a median operation to merge all monthly images into 1 single cloud-free layer. With an assumption that, along a multitemporal stack, clouds would not persist at the same geographical position from time to time (i.e image to image), the more data we have, the higher chance of dropping clouds."
   ]
  },
  {
   "cell_type": "code",
   "execution_count": null,
   "metadata": {},
   "outputs": [],
   "source": [
    "median_scene = monthly.median(dim=['time'])"
   ]
  },
  {
   "cell_type": "markdown",
   "metadata": {},
   "source": [
    "With 3 bands: red, green, blue, let's see the true color using the `true_color` function from `xrspatial.multispectral module` for each separate month and the median layer."
   ]
  },
  {
   "cell_type": "code",
   "execution_count": null,
   "metadata": {},
   "outputs": [],
   "source": [
    "bands_mapping = {v: i for i, v in enumerate(bands)}\n",
    "\n",
    "band_blue = bands_mapping['B02']\n",
    "band_green = bands_mapping['B03']\n",
    "band_red = bands_mapping['B04']"
   ]
  },
  {
   "cell_type": "code",
   "execution_count": null,
   "metadata": {},
   "outputs": [],
   "source": [
    "months = 12\n",
    "imgs = []\n",
    "for month in range(months):\n",
    "    # True color\n",
    "    r = monthly[month][band_red]\n",
    "    g = monthly[month][band_green]\n",
    "    b = monthly[month][band_blue]\n",
    "    img = ms.true_color(r, g, b)\n",
    "    imgs.append(img)"
   ]
  },
  {
   "cell_type": "code",
   "execution_count": null,
   "metadata": {},
   "outputs": [],
   "source": [
    "# Utility function for displaying images\n",
    "\n",
    "def display_images(images, columns=2, width=50, height=50):\n",
    "    height = max(height, int(len(images)/columns) * height)\n",
    "    plt.figure(figsize=(width, height))\n",
    "    for i, image in enumerate(images):\n",
    "        plt.subplot(len(images) / columns + 1, columns, i + 1)\n",
    "        plt.imshow(image)"
   ]
  },
  {
   "cell_type": "markdown",
   "metadata": {},
   "source": [
    "#### Monthly data"
   ]
  },
  {
   "cell_type": "code",
   "execution_count": null,
   "metadata": {},
   "outputs": [],
   "source": [
    "# takes some time to run\n",
    "display_images(imgs)"
   ]
  },
  {
   "cell_type": "markdown",
   "metadata": {},
   "source": [
    "#### Median layer"
   ]
  },
  {
   "cell_type": "code",
   "execution_count": null,
   "metadata": {},
   "outputs": [],
   "source": [
    "median_scene = monthly.median(dim=['time'])\n",
    "\n",
    "median_red_agg = median_scene[band_red]\n",
    "median_green_agg = median_scene[band_green]\n",
    "median_blue_agg = median_scene[band_blue]\n",
    "\n",
    "median_img = ms.true_color(median_red_agg, median_green_agg, median_blue_agg)\n",
    "\n",
    "median_img"
   ]
  },
  {
   "cell_type": "markdown",
   "metadata": {},
   "source": [
    "### References\n",
    "\n",
    "- https://stackstac.readthedocs.io/en/latest/basic.html"
   ]
  }
 ],
 "metadata": {
  "kernelspec": {
   "display_name": "Python 3",
   "language": "python",
   "name": "python3"
  },
  "language_info": {
   "codemirror_mode": {
    "name": "ipython",
    "version": 3
   },
   "file_extension": ".py",
   "mimetype": "text/x-python",
   "name": "python",
   "nbconvert_exporter": "python",
   "pygments_lexer": "ipython3",
   "version": "3.8.5"
  },
  "widgets": {
   "state": {},
   "version": "1.1.2"
  }
 },
 "nbformat": 4,
 "nbformat_minor": 4
}
