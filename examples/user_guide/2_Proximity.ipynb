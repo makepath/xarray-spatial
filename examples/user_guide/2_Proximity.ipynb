{
 "cells": [
  {
   "cell_type": "markdown",
   "metadata": {},
   "source": [
    "# Xarray-spatial\n",
    "### User Guide: Proximity (Distance) tools\n",
    "-----\n",
    "The Proximity tools allow you to perform analysis that accounts for one of three distance metrics which are Euclidean (straight-line), Mahattan, and Great Cricle. \n",
    "\n",
    "[Proximity Distance](#Proximity-Distance): Calculates distance to the nearest source for each pixel in the input raster.\n",
    "\n",
    "[Proximity Allocation](#Proximity-Allocation): Identifies the nearest source pixel (allocation) for each cell in the input raster.\n",
    "\n",
    "[Proximity Direction](#Proximity-Direction): Calculate direction to the nearest source for each cell in the input raster.\n",
    "\n",
    "-----------\n"
   ]
  },
  {
   "cell_type": "markdown",
   "metadata": {},
   "source": [
    "#### Let's use datashader to render our images..."
   ]
  },
  {
   "cell_type": "code",
   "execution_count": null,
   "metadata": {},
   "outputs": [],
   "source": [
    "import numpy as np\n",
    "import datashader as ds\n",
    "from datashader.transfer_functions import shade\n",
    "from datashader.transfer_functions import stack\n",
    "from datashader.transfer_functions import dynspread\n",
    "from datashader.transfer_functions import set_background\n",
    "from datashader.colors import Elevation\n",
    "\n",
    "import xrspatial"
   ]
  },
  {
   "cell_type": "markdown",
   "metadata": {},
   "source": [
    "## Proximity Distance\n",
    "\n",
    "The `xrspatial.proximity` function operates on a given aggregate to produce a new distance aggregate based on target values and a distance metric. The values in the new aggregate will be the distance (according to the given metric) between each array cell (pixel) and the nearest target value in the source aggregate.\n",
    "\n",
    "A powerful feature of `proximity` is that you can target specific values, the `target_values` parameter, in the aggregate for distance calculation, while others are ignored. If it is not set, then the default targets will be all non-zero pixels. Play with the parameter and see the difference of using `target_values=[1,2,3,4]` vs. default option. "
   ]
  },
  {
   "cell_type": "markdown",
   "metadata": {},
   "source": [
    "   ##### Load data and create `ds.Canvas`"
   ]
  },
  {
   "cell_type": "code",
   "execution_count": null,
   "metadata": {},
   "outputs": [],
   "source": [
    "from xrspatial import proximity\n",
    "import pandas as pd\n",
    "\n",
    "\n",
    "df = pd.DataFrame({\n",
    "   'x': [-13, -11, -5, 4, 9, 11, 18, 6],\n",
    "   'y': [-13, -5, 0, 10, 7, 2, 5, -5],\n",
    "   'id': [1, 2, 3, 4, 5, 6, 7, 8]\n",
    "})\n",
    "\n",
    "W = 800\n",
    "H = 600\n",
    "\n",
    "cvs = ds.Canvas(plot_width=W, plot_height=H,\n",
    "                x_range=(-20, 20), y_range=(-20, 20))"
   ]
  },
  {
   "cell_type": "markdown",
   "metadata": {},
   "source": [
    "   ##### Create Proximity Aggregate\n",
    "   \n",
    "   - Use `Canvas.points` to create an `xarray.DataArray` that all non-zero cells have an unique value that represent for a separate region/source.\n",
    "   - Calculate proximity to nearest target using `xrspatial.proximity`"
   ]
  },
  {
   "cell_type": "code",
   "execution_count": null,
   "metadata": {},
   "outputs": [],
   "source": [
    "# all non-zero cells have an unique value that represent for a separate region\n",
    "points_agg = cvs.points(df, x='x', y='y', agg=ds.min('id'))\n",
    "points_agg.data[~np.isfinite(points_agg.data)] = 0\n",
    "points_agg = (points_agg).astype(int)\n",
    "\n",
    "points_shaded = dynspread(shade(points_agg, cmap=['salmon',  'salmon']),\n",
    "                          threshold=1,\n",
    "                          max_px=5)\n",
    "set_background(points_shaded, 'black')"
   ]
  },
  {
   "cell_type": "markdown",
   "metadata": {},
   "source": [
    "##### Create proximity grid for all a specific set of target values"
   ]
  },
  {
   "cell_type": "code",
   "execution_count": null,
   "metadata": {},
   "outputs": [],
   "source": [
    "targets = [1, 2, 3, 4]\n",
    "target_proximity_agg = proximity(points_agg, target_values=targets, distance_metric=\"GREAT_CIRCLE\")\n",
    "\n",
    "stack(shade(target_proximity_agg, cmap=['darkturquoise', 'black'], how='linear'),\n",
    "      points_shaded)"
   ]
  },
  {
   "cell_type": "markdown",
   "metadata": {},
   "source": [
    "##### Create proximity grid for all non-zero values"
   ]
  },
  {
   "cell_type": "code",
   "execution_count": null,
   "metadata": {},
   "outputs": [],
   "source": [
    "proximity_agg = proximity(points_agg, distance_metric=\"GREAT_CIRCLE\")\n",
    "\n",
    "stack(shade(proximity_agg, cmap=['darkturquoise', 'black'], how='linear'),\n",
    "      points_shaded)"
   ]
  },
  {
   "cell_type": "code",
   "execution_count": null,
   "metadata": {},
   "outputs": [],
   "source": [
    "line_agg = cvs.line(df, x='x', y='y')\n",
    "line_shaded = dynspread(shade(line_agg, cmap=['salmon',  'salmon']),\n",
    "                          threshold=1,\n",
    "                          max_px=2)\n",
    "set_background(line_shaded, 'black')"
   ]
  },
  {
   "cell_type": "code",
   "execution_count": null,
   "metadata": {},
   "outputs": [],
   "source": [
    "line_proximity = proximity(line_agg)\n",
    "stack(shade(line_proximity, cmap=['darkturquoise', 'black'], how='linear'),\n",
    "      line_shaded)"
   ]
  },
  {
   "cell_type": "markdown",
   "metadata": {},
   "source": [
    "##### Transform Proximity DataArray\n",
    "Like the other Datashader spatial tools, the result of `proximity` is an `xarray.DataArray` with a large API of potential transformations.\n",
    "\n",
    "Below is an example of using `DataArray.where()` to apply a minimum distance and maximum distance."
   ]
  },
  {
   "cell_type": "code",
   "execution_count": null,
   "metadata": {},
   "outputs": [],
   "source": [
    "where_clause = (line_proximity > 1) & (line_proximity < 1.1)\n",
    "proximity_shaded = shade(line_proximity.where(where_clause), cmap=['darkturquoise', 'darkturquoise'])\n",
    "proximity_shaded = set_background(proximity_shaded, 'black')\n",
    "stack(proximity_shaded, line_shaded)"
   ]
  },
  {
   "cell_type": "markdown",
   "metadata": {},
   "source": [
    "## Proximity Allocation\n",
    "\n",
    "Similar to `xrspatial.proximity`, the `xrspatial.allocation` function operates on a given aggregate to produce the nearest source (instead of distance to nearest source) based on target values and a distance metric. The values in the new aggregate will be the value of the nearest feature.\n",
    "\n",
    "In the same way, you can target specific values with the `target_values` parameter."
   ]
  },
  {
   "cell_type": "code",
   "execution_count": null,
   "metadata": {},
   "outputs": [],
   "source": [
    "from xrspatial import allocation\n",
    "\n",
    "allocation_agg = allocation(points_agg, distance_metric=\"GREAT_CIRCLE\")\n",
    "                            \n",
    "stack(shade(allocation_agg, cmap=['darkturquoise', 'black'], how='linear'),\n",
    "      points_shaded)"
   ]
  },
  {
   "cell_type": "markdown",
   "metadata": {},
   "source": [
    "## Proximity Direction\n",
    "\n",
    "Similar to `xrspatial.proximity`, the `xrspatial.direction` function operates on a given aggregate. It calculates for each pixel the direction to nearest source (instead of distance) based on target values and a distance metric. The output values are based on compass directions, range from 0 to 360:\n",
    "- 0 is for the source cell itself\n",
    "- 90 is the east\n",
    "- 180 is the south\n",
    "- 270 is the west\n",
    "- 360 is the north\n",
    "\n",
    "In the same way, you can target specific values with the `target_values` parameter."
   ]
  },
  {
   "cell_type": "code",
   "execution_count": null,
   "metadata": {},
   "outputs": [],
   "source": [
    "from xrspatial import direction\n",
    "\n",
    "direction_agg = direction(points_agg, distance_metric=\"GREAT_CIRCLE\")\n",
    "                            \n",
    "stack(shade(direction_agg, cmap=['darkturquoise', 'black'], how='linear'),\n",
    "      points_shaded)"
   ]
  },
  {
   "cell_type": "markdown",
   "metadata": {},
   "source": [
    "\n",
    "\n",
    "\n",
    "### References\n",
    "An overview of the Distance toolset: https://pro.arcgis.com/en/pro-app/tool-reference/spatial-analyst/an-overview-of-the-distance-tools.htm"
   ]
  }
 ],
 "metadata": {
  "language_info": {
   "name": "python"
  }
 },
 "nbformat": 4,
 "nbformat_minor": 2
}
