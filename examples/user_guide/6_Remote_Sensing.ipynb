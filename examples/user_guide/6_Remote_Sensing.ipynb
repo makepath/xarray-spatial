{
 "cells": [
  {
   "cell_type": "markdown",
   "metadata": {},
   "source": [
    "# Xarray-spatial\n",
    "### User Guide: Remote Sensing tools\n",
    "-----\n",
    "\n",
    "[Generate terrain](#Generate-Terrain-Data)\n",
    "[Bump](#Bump)\n",
    "[NDVI](#NDVI)\n",
    "\n",
    "-----------\n"
   ]
  },
  {
   "cell_type": "code",
   "execution_count": null,
   "metadata": {},
   "outputs": [],
   "source": [
    "import xarray as xr\n",
    "\n",
    "from datashader.transfer_functions import Images, Image\n",
    "import datashader as ds\n",
    "import datashader.transfer_functions as tf\n",
    "\n",
    "from datashader.utils import orient_array"
   ]
  },
  {
   "cell_type": "code",
   "execution_count": null,
   "metadata": {},
   "outputs": [],
   "source": [
    "\n",
    "import xarray as xr\n",
    "SCENE_ID = 'LC80030172015001LGN00'\n",
    "EXTS = {'coastal_aerosol':'B1',\n",
    "        'blue':'B2',\n",
    "        'green':'B3',\n",
    "        'red':'B4',\n",
    "        'nir':'B5',\n",
    "        'swir1':'B6',\n",
    "        'swir2':'B7',\n",
    "        'panchromatic':'B8',\n",
    "        'cirrus':'B9',\n",
    "        'tir1':'B10',\n",
    "        'tir2':'B11',\n",
    "        'qa':'BQA'}\n",
    "\n",
    "cvs = ds.Canvas(plot_width=1024, plot_height=1024)\n",
    "layers = {}\n",
    "for name, ext in EXTS.items():\n",
    "    layer = xr.open_rasterio(f\"{SCENE_ID}_{ext}.tiff\").load()[0]\n",
    "    layer.name = name\n",
    "    layer = cvs.raster(layer, agg='mean')\n",
    "    layer.data = orient_array(layer)\n",
    "    layers[name] = layer\n",
    "layers"
   ]
  },
  {
   "cell_type": "code",
   "execution_count": null,
   "metadata": {},
   "outputs": [],
   "source": [
    "shaded = []\n",
    "for name, raster in layers.items():\n",
    "    img = tf.shade(raster)\n",
    "    img.name = name\n",
    "    shaded.append(img)\n",
    "\n",
    "imgs = tf.Images(*shaded)\n",
    "imgs.num_cols = 2\n",
    "imgs"
   ]
  },
  {
   "cell_type": "markdown",
   "metadata": {},
   "source": [
    "### True Color"
   ]
  },
  {
   "cell_type": "code",
   "execution_count": null,
   "metadata": {},
   "outputs": [],
   "source": [
    "import sys\n",
    "sys.path.append('../../')\n",
    "\n",
    "# import xrspatial.multispectral as ms\n",
    "# from importlib import reload\n",
    "# reload(ms)\n",
    "\n",
    "# ms.true_color(layers['red'], layers['green'], layers['blue'])"
   ]
  },
  {
   "cell_type": "markdown",
   "metadata": {},
   "source": [
    "### NDVI"
   ]
  },
  {
   "cell_type": "code",
   "execution_count": null,
   "metadata": {},
   "outputs": [],
   "source": [
    "import xrspatial.multispectral as ms\n",
    "from importlib import reload\n",
    "reload(ms)\n",
    "\n",
    "nir = layers['nir']\n",
    "#nir.data = nir.data.astype('float')\n",
    "\n",
    "red = layers['red']\n",
    "#red.data = red.data.astype('float')\n",
    "\n",
    "\n",
    "\n",
    "nir_img = tf.shade(nir, cmap=['purple','black','green'])\n",
    "nir_img.name = 'nir'\n",
    "\n",
    "red_img = tf.shade(red, cmap=['purple','black','green'])\n",
    "red_img.name = 'red'\n",
    "\n",
    "ndvi_img = ms.ndvi(nir_agg=nir, red_agg=red)\n",
    "ndvi_img = tf.shade(ndvi_img, cmap=['purple','black','green'])\n",
    "ndvi_img.name = 'ndvi'\n",
    "\n",
    "tf.Images(nir_img, red_img, ndvi_img)"
   ]
  },
  {
   "cell_type": "code",
   "execution_count": null,
   "metadata": {},
   "outputs": [],
   "source": [
    "import xrspatial.multispectral as ms\n",
    "from importlib import reload\n",
    "reload(ms)\n",
    "\n",
    "tf.shade(ms.ndvi(nir_agg=layers['blue'], red_agg=layers['green']))"
   ]
  },
  {
   "cell_type": "code",
   "execution_count": null,
   "metadata": {},
   "outputs": [],
   "source": [
    "tf.shade(ms.savi(layers['nir'], layers['red']))"
   ]
  },
  {
   "cell_type": "markdown",
   "metadata": {},
   "source": [
    "#### Let's use datashader to render our images..."
   ]
  },
  {
   "cell_type": "code",
   "execution_count": null,
   "metadata": {},
   "outputs": [],
   "source": [
    "import numpy as np\n",
    "import datashader as ds\n",
    "from datashader.transfer_functions import shade\n",
    "from datashader.transfer_functions import stack\n",
    "from datashader.transfer_functions import dynspread\n",
    "from datashader.transfer_functions import set_background\n",
    "from datashader.colors import Elevation\n",
    "\n",
    "import xrspatial\n",
    "\n"
   ]
  },
  {
   "cell_type": "markdown",
   "metadata": {},
   "source": [
    "## Generate Terrain Data\n",
    "\n",
    "The rest of the geo-related functions focus on raster data (or rasterized data, after a previous Datashader step that returns an Xarray object). To demonstrate using these raster-based functions, let's generate some fake terrain as an elevation raster:"
   ]
  },
  {
   "cell_type": "code",
   "execution_count": null,
   "metadata": {},
   "outputs": [],
   "source": [
    "from xrspatial import generate_terrain\n",
    "\n",
    "W = 800\n",
    "H = 600\n",
    "\n",
    "cvs = ds.Canvas(plot_width=W, plot_height=H, x_range=(-20e6, 20e6), y_range=(-20e6, 20e6))\n",
    "terrain = generate_terrain(canvas=cvs)\n",
    "\n",
    "shade(terrain, cmap=['black', 'white'], how='linear')"
   ]
  },
  {
   "cell_type": "markdown",
   "metadata": {},
   "source": [
    "The grayscale value above shows the elevation linearly in intensity (with the large black areas indicating low elevation), but it will look more like a landscape if we map the lowest values to colors representing water, and the highest to colors representing mountaintops:"
   ]
  },
  {
   "cell_type": "code",
   "execution_count": null,
   "metadata": {},
   "outputs": [],
   "source": [
    "shade(terrain, cmap=Elevation, how='linear')"
   ]
  },
  {
   "cell_type": "markdown",
   "metadata": {},
   "source": [
    "## NDVI\n",
    "\n",
    "The [Normalized Difference Vegetation Index](https://en.wikipedia.org/wiki/Normalized_difference_vegetation_index) (NDVI) is a metric designed to detect regions with vegetation by measuring the difference between near-infrared (NIR) light (which vegetation reflects) and red light (which vegetation absorbs).\n",
    "\n",
    "The NDVI ranges over [-1,+1], where `-1` means more \"Red\" radiation while `+1` means more \"NIR\" radiation. NDVI values close to +1.0 suggest areas dense with active green foliage, while strongly negative values suggest cloud cover or snow, and values near zero suggest open water, urban areas, or bare soil. \n",
    "\n",
    "For our synthetic example here, we don't have access to NIR measurements, but we can approximate the results for demonstration purposes by using the green and blue channels of a colormapped image, as those represent a difference in wavelength similar to NIR vs. Red."
   ]
  },
  {
   "cell_type": "code",
   "execution_count": null,
   "metadata": {},
   "outputs": [],
   "source": [
    "import xarray as xr\n",
    "\n",
    "from xrspatial import ndvi\n",
    "\n",
    "rgba = stack(shade(terrain, cmap=Elevation, how='linear')).to_pil()\n",
    "r,g,b,a = [xr.DataArray(np.flipud(np.asarray(rgba.getchannel(c))))/255.0 \n",
    "           for c in ['R','G','B','A']]\n",
    "\n",
    "ndvi = ndvi(nir_agg=g, red_agg=b)\n",
    "shade(ndvi, cmap=['purple','black','green'], how='linear')"
   ]
  },
  {
   "cell_type": "markdown",
   "metadata": {},
   "source": [
    "## Bump\n",
    "\n",
    "Bump mapping is a cartographic technique that can be used to create the appearance of trees or other land features, which is useful when synthesizing human-interpretable images from source data like land use classifications.\n",
    "\n",
    "`dsgeo.bump` will produce a bump aggregate for adding detail to the terrain.\n",
    "\n",
    "In this example, we will pretend the bumps are trees, and shade them with green.  We'll also use the elevation data to modulate whether there are trees and if so how tall they are.\n",
    "\n",
    "- First, we'll define a custom `height` function to return tree heights suitable for the given elevation range\n",
    "- `dsgeo.bump` accepts a function with only a single argument (`locations`), so we will use `functools.partial` to provide values for the other arguments.\n",
    "- Bump mapping isn't normally a performance bottleneck, but if you want, you can speed it up by using Numba on your custom `height` function (`from xrspatial.utils import ngjit`, then put `@ngjit` above `def heights(...)`)."
   ]
  },
  {
   "cell_type": "code",
   "execution_count": null,
   "metadata": {},
   "outputs": [],
   "source": [
    "from functools import partial\n",
    "\n",
    "from xrspatial import bump, hillshade\n",
    "\n",
    "def heights(locations, src, src_range, height=20):\n",
    "    num_bumps = locations.shape[0]\n",
    "    out = np.zeros(num_bumps, dtype=np.uint16)\n",
    "    for r in range(0, num_bumps):\n",
    "        loc = locations[r]\n",
    "        x = loc[0]\n",
    "        y = loc[1]\n",
    "        val = src[y, x]\n",
    "        if val >= src_range[0] and val < src_range[1]:\n",
    "            out[r] = height\n",
    "    return out\n",
    "\n",
    "T = 300000 # Number of trees to add per call\n",
    "src = terrain.data\n",
    "%time trees  = bump(W, H, count=T,    height_func=partial(heights, src=src, src_range=(1000, 1300), height=5))\n",
    "trees       += bump(W, H, count=T//2, height_func=partial(heights, src=src, src_range=(1300, 1700), height=20))\n",
    "trees       += bump(W, H, count=T//3, height_func=partial(heights, src=src, src_range=(1700, 2000), height=5))\n",
    "\n",
    "tree_colorize = trees.copy()\n",
    "tree_colorize.data[tree_colorize.data == 0] = np.nan\n",
    "hillshaded = hillshade(terrain + trees)\n",
    "\n",
    "stack(shade(terrain,        cmap=['black', 'white'], how='linear'),\n",
    "      shade(hillshaded,      cmap=['black', 'white'], how='linear', alpha=128),\n",
    "      shade(tree_colorize,  cmap='limegreen',        how='linear'))"
   ]
  }
 ],
 "metadata": {
  "language_info": {
   "name": "python"
  }
 },
 "nbformat": 4,
 "nbformat_minor": 2
}
