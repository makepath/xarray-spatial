{
 "cells": [
  {
   "cell_type": "markdown",
   "metadata": {},
   "source": [
    "# Xarray-spatial\n",
    "### User Guide: Remote Sensing tools\n",
    "-----\n",
    "\n",
    "Xarray-spatial's Remote Sensing tools provide a range of functions pertaining to remote sensing data such as satellite imagery. A range of functions are available to calculate various vegetation and environmental parameters from the range of band data available for an area. These functions accept and output data in the form of xarray.DataArray rasters.\n",
    "\n",
    "[Generate terrain](#Generate-Terrain-Data)  \n",
    "[Bump](#Bump)  \n",
    "[NDVI](#NDVI)  \n",
    "\n",
    "-----------\n"
   ]
  },
  {
   "cell_type": "markdown",
   "metadata": {},
   "source": [
    "### Load data"
   ]
  },
  {
   "cell_type": "markdown",
   "metadata": {},
   "source": [
    "To get started, we'll import some basic packages, along with several handy datashader functions, mainly for rendering.\n",
    "\n",
    "To download the examples data, run the command `xrspatial examples` in your terminal. All the data will be stored in your current directory inside a folder named `xrspatial-examples`."
   ]
  },
  {
   "cell_type": "code",
   "execution_count": null,
   "metadata": {},
   "outputs": [],
   "source": [
    "import datashader as ds\n",
    "from datashader.colors import Elevation\n",
    "import datashader.transfer_functions as tf\n",
    "from datashader.transfer_functions import shade\n",
    "from datashader.transfer_functions import stack\n",
    "from datashader.transfer_functions import dynspread\n",
    "from datashader.transfer_functions import set_background\n",
    "from datashader.transfer_functions import Images, Image\n",
    "from datashader.utils import orient_array\n",
    "import numpy as np\n",
    "import xarray as xr"
   ]
  },
  {
   "cell_type": "markdown",
   "metadata": {},
   "source": [
    "The following functions apply to image data with bands in different parts of the UV/Visible/IR spectrum (multispectral), so we'll bring in some multispectral satellite image data to work with.\n",
    "\n",
    "Below, we loaded all of the images and transformed them into the form of an xarray DataArray to use in the Xarray-spatial functions."
   ]
  },
  {
   "cell_type": "code",
   "execution_count": null,
   "metadata": {},
   "outputs": [],
   "source": [
    "SCENE_ID = \"LC80030172015001LGN00\"\n",
    "EXTS = {\n",
    "    \"coastal_aerosol\": \"B1\",\n",
    "    \"blue\": \"B2\",\n",
    "    \"green\": \"B3\",\n",
    "    \"red\": \"B4\",\n",
    "    \"nir\": \"B5\",\n",
    "    \"swir1\": \"B6\",\n",
    "    \"swir2\": \"B7\",\n",
    "    \"panchromatic\": \"B8\",\n",
    "    \"cirrus\": \"B9\",\n",
    "    \"tir1\": \"B10\",\n",
    "    \"tir2\": \"B11\",\n",
    "    \"qa\": \"BQA\",\n",
    "}\n",
    "\n",
    "cvs = ds.Canvas(plot_width=1024, plot_height=1024)\n",
    "layers = {}\n",
    "for name, ext in EXTS.items():\n",
    "    layer = xr.open_rasterio(\n",
    "        f\"../../xrspatial-examples/data/{SCENE_ID}_{ext}.tiff\"\n",
    "    ).load()[0]\n",
    "    layer.name = name\n",
    "    layer = cvs.raster(layer, agg=\"mean\")\n",
    "    layer.data = orient_array(layer)\n",
    "    layers[name] = layer\n",
    "layers"
   ]
  },
  {
   "cell_type": "markdown",
   "metadata": {},
   "source": [
    "##### Let's do a quick visualization to see what these images look like. "
   ]
  },
  {
   "cell_type": "code",
   "execution_count": null,
   "metadata": {},
   "outputs": [],
   "source": [
    "shaded = []\n",
    "for name, raster in layers.items():\n",
    "    img = shade(raster)\n",
    "    img.name = name\n",
    "    shaded.append(img)\n",
    "\n",
    "imgs = Images(*shaded)\n",
    "imgs.num_cols = 2\n",
    "imgs"
   ]
  },
  {
   "cell_type": "markdown",
   "metadata": {},
   "source": [
    "### True Color\n",
    "\n",
    "Now we're ready to apply some xarray-spatial functions. \n",
    "\n",
    "To start, we can apply `true_color` to the red, green, and blue bands from above to generate a real-looking image."
   ]
  },
  {
   "cell_type": "code",
   "execution_count": null,
   "metadata": {},
   "outputs": [],
   "source": [
    "import xrspatial.multispectral as ms\n",
    "\n",
    "ms.true_color(layers[\"red\"], layers[\"green\"], layers[\"blue\"])"
   ]
  },
  {
   "cell_type": "markdown",
   "metadata": {},
   "source": [
    "## NDVI\n",
    "\n",
    "The [Normalized Difference Vegetation Index](https://en.wikipedia.org/wiki/Normalized_difference_vegetation_index) (NDVI) is a metric designed to detect regions with vegetation by measuring the difference between near-infrared (NIR) light (which vegetation reflects) and red light (which vegetation absorbs).\n",
    "\n",
    "The NDVI ranges over [-1,+1], where `-1` means more \"Red\" radiation while `+1` means more \"NIR\" radiation. NDVI values close to +1.0 suggest areas dense with active green foliage, while strongly negative values suggest cloud cover or snow, and values near zero suggest open water, urban areas, or bare soil. \n",
    "\n",
    "For our synthetic example here, we don't have access to NIR measurements, but we can approximate the results for demonstration purposes by using the green and blue channels of a colormapped image, as those represent a difference in wavelengths similar to NIR vs. Red."
   ]
  },
  {
   "cell_type": "markdown",
   "metadata": {},
   "source": [
    "Let's start by applying `xrspatial.ndvi` to the satellite band images from above."
   ]
  },
  {
   "cell_type": "code",
   "execution_count": null,
   "metadata": {},
   "outputs": [],
   "source": [
    "import xrspatial.multispectral as ms\n",
    "from xrspatial.multispectral import ndvi\n",
    "from xrspatial.multispectral import savi\n",
    "\n",
    "nir = layers[\"nir\"]\n",
    "# nir.data = nir.data.astype('float')\n",
    "\n",
    "red = layers[\"red\"]\n",
    "# red.data = red.data.astype('float')\n",
    "\n",
    "\n",
    "nir_img = shade(nir, cmap=[\"purple\", \"black\", \"green\"])\n",
    "nir_img.name = \"nir\"\n",
    "\n",
    "red_img = shade(red, cmap=[\"purple\", \"black\", \"green\"])\n",
    "red_img.name = \"red\"\n",
    "\n",
    "ndvi_img = ndvi(nir_agg=nir, red_agg=red)\n",
    "ndvi_img = shade(ndvi_img, cmap=[\"purple\", \"black\", \"green\"])\n",
    "ndvi_img.name = \"ndvi\"\n",
    "\n",
    "Images(nir_img, red_img, ndvi_img)"
   ]
  },
  {
   "cell_type": "markdown",
   "metadata": {},
   "source": [
    "Now, substituting the blue and green bands, we get the following image."
   ]
  },
  {
   "cell_type": "code",
   "execution_count": null,
   "metadata": {},
   "outputs": [],
   "source": [
    "tf.shade(\n",
    "    ndvi(nir_agg=layers[\"green\"], red_agg=layers[\"blue\"]),\n",
    "    how=\"eq_hist\",\n",
    "    cmap=[\"purple\", \"black\", \"green\"],\n",
    ")"
   ]
  },
  {
   "cell_type": "markdown",
   "metadata": {},
   "source": [
    "As you can see, we get a similar image as before, though it is not as well-defined."
   ]
  },
  {
   "cell_type": "markdown",
   "metadata": {},
   "source": [
    "### SAVI\n",
    "\n",
    "`xrspatial.savi` also computes the vegetation index from the red and nir bands, but it applies a correction factor for the soil brightness.\n",
    "\n",
    "Let's try applying that to our bands from above."
   ]
  },
  {
   "cell_type": "code",
   "execution_count": null,
   "metadata": {},
   "outputs": [],
   "source": [
    "shade(savi(layers[\"nir\"], layers[\"red\"]))"
   ]
  },
  {
   "cell_type": "markdown",
   "metadata": {},
   "source": [
    "For the next few functions, we'll experiment with an artificial terrain. We'll use xarray-spatial's `generate_terrain` along with datashader's Canvas to smooth thing"
   ]
  },
  {
   "cell_type": "markdown",
   "metadata": {},
   "source": [
    "#### Generate Terrain"
   ]
  },
  {
   "cell_type": "code",
   "execution_count": null,
   "metadata": {},
   "outputs": [],
   "source": [
    "from xrspatial import generate_terrain\n",
    "\n",
    "W = 800\n",
    "H = 600\n",
    "\n",
    "template_terrain = xr.DataArray(np.zeros((H, W)))\n",
    "x_range=(-20e6, 20e6)\n",
    "y_range=(20e6, -20e6)\n",
    "\n",
    "terrain = generate_terrain(template_terrain, x_range=x_range, y_range=y_range)\n",
    "terrain.attrs[\"unit\"] = \"meter\"\n",
    "\n",
    "shade(terrain, cmap=[\"black\", \"white\"], how=\"linear\")"
   ]
  },
  {
   "cell_type": "markdown",
   "metadata": {},
   "source": [
    "The grayscale values in the image above show the elevation, scaled linearly in intensity (with the large black areas indicating low elevation). This is good, but it would look more like a landscape if we map the lowest values to colors representing water, and the highest to colors representing mountaintops. We can use the Elevation colormap for this."
   ]
  },
  {
   "cell_type": "code",
   "execution_count": null,
   "metadata": {},
   "outputs": [],
   "source": [
    "shade(terrain, cmap=Elevation, how=\"linear\")"
   ]
  },
  {
   "cell_type": "markdown",
   "metadata": {},
   "source": [
    "Now we can generate the rgba PIL image, extract the green and blue bands, and input those into ndvi. \n",
    "\n",
    "The result is displayed below. "
   ]
  },
  {
   "cell_type": "code",
   "execution_count": null,
   "metadata": {},
   "outputs": [],
   "source": [
    "rgba = stack(shade(terrain, cmap=Elevation, how=\"linear\")).to_pil()\n",
    "r, g, b, a = [\n",
    "    xr.DataArray(np.flipud(np.asarray(rgba.getchannel(c)))) / 255.0\n",
    "    for c in [\"R\", \"G\", \"B\", \"A\"]\n",
    "]\n",
    "\n",
    "ndvi_img = ndvi(nir_agg=g, red_agg=b)\n",
    "shade(ndvi_img, cmap=[\"purple\", \"black\", \"green\"], how=\"linear\")"
   ]
  },
  {
   "cell_type": "markdown",
   "metadata": {},
   "source": [
    "## Bump\n",
    "\n",
    "Bump mapping is a cartographic technique that can be used to create the appearance of trees or other land features, which is useful when synthesizing human-interpretable images from source data like land use classifications.\n",
    "\n",
    "`xrspatial.bump` will produce a bump aggregate for adding detail to the terrain.\n",
    "\n",
    "In this example, we will pretend the bumps are trees, and shade them with green.  We'll also use the elevation data to modulate whether there are trees and if so how tall they are.\n",
    "\n",
    "- First, we'll define a custom `height` function to return tree heights suitable for the given elevation range\n",
    "- `xrspatial.bump` accepts a function with only a single argument (`locations`), so we will use `functools.partial` to provide values for the other arguments.\n",
    "- Bump mapping isn't normally a performance bottleneck, but if you want, you can speed it up by using Numba on your custom `height` function (`from xrspatial.utils import ngjit`, then put `@ngjit` above `def heights(...)`)."
   ]
  },
  {
   "cell_type": "code",
   "execution_count": null,
   "metadata": {},
   "outputs": [],
   "source": [
    "from functools import partial\n",
    "\n",
    "from xrspatial import bump, hillshade\n",
    "\n",
    "\n",
    "def heights(locations, src, src_range, height=20):\n",
    "    num_bumps = locations.shape[0]\n",
    "    out = np.zeros(num_bumps, dtype=np.uint16)\n",
    "    for r in range(0, num_bumps):\n",
    "        loc = locations[r]\n",
    "        x = loc[0]\n",
    "        y = loc[1]\n",
    "        val = src[y, x]\n",
    "        if val >= src_range[0] and val < src_range[1]:\n",
    "            out[r] = height\n",
    "    return out\n",
    "\n",
    "\n",
    "T = 300000  # Number of trees to add per call\n",
    "src = terrain.data\n",
    "%time trees  = bump(W, H, count=T,    height_func=partial(heights, src=src, src_range=(1000, 1300), height=5))\n",
    "trees += bump(\n",
    "    W,\n",
    "    H,\n",
    "    count=T // 2,\n",
    "    height_func=partial(heights, src=src, src_range=(1300, 1700), height=20),\n",
    ")\n",
    "trees += bump(\n",
    "    W,\n",
    "    H,\n",
    "    count=T // 3,\n",
    "    height_func=partial(heights, src=src, src_range=(1700, 2000), height=5),\n",
    ")\n",
    "trees = trees.assign_coords(terrain.coords)\n",
    "\n",
    "tree_colorize = trees.copy()\n",
    "tree_colorize.data[tree_colorize.data == 0] = np.nan\n",
    "hillshaded = hillshade(terrain + trees)\n",
    "\n",
    "stack(\n",
    "    shade(terrain, cmap=[\"black\", \"white\"], how=\"linear\"),\n",
    "    shade(hillshaded, cmap=[\"black\", \"white\"], how=\"linear\", alpha=128),\n",
    "    shade(tree_colorize, cmap=\"limegreen\", how=\"linear\"),\n",
    ")"
   ]
  }
 ],
 "metadata": {
  "kernelspec": {
   "display_name": "Python 3",
   "language": "python",
   "name": "python3"
  },
  "language_info": {
   "codemirror_mode": {
    "name": "ipython",
    "version": 3
   },
   "file_extension": ".py",
   "mimetype": "text/x-python",
   "name": "python",
   "nbconvert_exporter": "python",
   "pygments_lexer": "ipython3",
   "version": "3.8.5"
  }
 },
 "nbformat": 4,
 "nbformat_minor": 4
}
