{
 "cells": [
  {
   "cell_type": "markdown",
   "metadata": {},
   "source": [
    "# Xarray-spatial\n",
    "### User Guide: Pathfinding\n",
    "-----\n",
    "\n",
    "[A* Pathfinding](#A*)\n",
    "\n",
    "-----------\n"
   ]
  },
  {
   "cell_type": "markdown",
   "metadata": {},
   "source": [
    "#### Let's use datashader to render our images..."
   ]
  },
  {
   "cell_type": "code",
   "execution_count": null,
   "metadata": {},
   "outputs": [],
   "source": [
    "import numpy as np\n",
    "import datashader as ds\n",
    "from datashader.transfer_functions import shade\n",
    "from datashader.transfer_functions import stack\n",
    "from datashader.transfer_functions import dynspread\n",
    "from datashader.transfer_functions import set_background\n",
    "from datashader.colors import Elevation\n",
    "\n",
    "import xrspatial"
   ]
  },
  {
   "cell_type": "markdown",
   "metadata": {},
   "source": [
    "## A*\n",
    "\n",
    "A* is an informed search algorithm, or a best-first search, meaning that it is formulated in terms of weighted graphs: starting from a specific starting node of a graph, it aims to find a path to the given goal node having the smallest cost (min distance travelled, shortest time, ...). \n",
    "\n",
    "The `xrspatial.a_star_search` function calculate the shortest path in pixel space from a start location to a goal location  through a given aggregate surface graph. The graph should be a line raster which contains crossable and non-crossable (a.k.a walls or barrieres) values. Note that both start and goal are in (lon, lat), or (x, y) coordinate space and must be within the graph. The `xrspatial.a_star_search` provides 2 separate options, `snap_start` and `snap_goal`, which can be set true to snap locations to the nearest valid value before beginning pathfinding. It also provides `connectivity` option to indicate neighborhood structure. This value can be set to either 4 or 8 that represents for 4-connectivity and 8-connectivity accordingly.\n",
    "\n",
    "Let's generate some fake line raster and find shortest path with A*."
   ]
  },
  {
   "cell_type": "code",
   "execution_count": null,
   "metadata": {},
   "outputs": [],
   "source": [
    "from xrspatial import a_star_search\n",
    "import pandas as pd\n",
    "\n",
    "# define range of x and y\n",
    "xrange = (0, 4)\n",
    "yrange = (0, 4)\n",
    "\n",
    "# create line raster\n",
    "ys = [1, 1, 3, 3, 1, 1, np.nan, 1, 3, np.nan, 1, 3, np.nan, 1, 3, np.nan, 2, 2]\n",
    "xs = [1, 3, 3, 1, 1, 3, np.nan, 1, 3, np.nan, 3, 1, np.nan, 2, 2, np.nan, 1, 3]\n",
    "line_df = pd.DataFrame(dict(x=xs, y=ys))\n",
    "\n",
    "W = 800\n",
    "H = 600\n",
    "cvs = ds.Canvas(plot_width=W, plot_height=H,\n",
    "                x_range=xrange, y_range=yrange)\n",
    "line_agg = cvs.line(line_df, x='x', y='y').astype(int)\n",
    "line_shaded = dynspread(shade(line_agg, cmap=['salmon']))\n",
    "\n",
    "# pick up 2 random locations\n",
    "start = (1, 3)\n",
    "goal = (3, 1)\n",
    "\n",
    "location_df = pd.DataFrame({'x': [start[0], goal[0]], 'y': [start[1], goal[1]]})\n",
    "location_agg = cvs.points(location_df, 'x', 'y')\n",
    "location_shaded = dynspread(shade(location_agg, cmap=['lime']), threshold=1, max_px=5)\n",
    "\n",
    "set_background(stack(line_shaded, location_shaded), 'black')"
   ]
  },
  {
   "cell_type": "markdown",
   "metadata": {},
   "source": [
    "### 8-connectivity"
   ]
  },
  {
   "cell_type": "code",
   "execution_count": null,
   "metadata": {},
   "outputs": [],
   "source": [
    "# find the path from start to goal, \n",
    "# barriers are uncrossable cells. In this case, they are cells with a value of 0\n",
    "\n",
    "path_agg_8_connectivity = a_star_search(line_agg, start, goal, barriers=[0], snap_start=True, snap_goal=True)\n",
    "\n",
    "path_shaded = dynspread(shade(path_agg_8_connectivity, cmap=['green']))\n",
    "set_background(stack(line_shaded, path_shaded, location_shaded), 'black')"
   ]
  },
  {
   "cell_type": "markdown",
   "metadata": {},
   "source": [
    "### 4-connectivity"
   ]
  },
  {
   "cell_type": "code",
   "execution_count": null,
   "metadata": {},
   "outputs": [],
   "source": [
    "# find the path from start to goal, \n",
    "# barriers are uncrossable cells. In this case, they are cells with a value of 0\n",
    "\n",
    "path_agg_4_connectivity = a_star_search(line_agg, start, goal, barriers=[0],\n",
    "                                        snap_start=True, snap_goal=True, connectivity=4)\n",
    "\n",
    "path_shaded = dynspread(shade(path_agg_4_connectivity, cmap=['green']))\n",
    "set_background(stack(line_shaded, path_shaded, location_shaded), 'black')"
   ]
  },
  {
   "cell_type": "markdown",
   "metadata": {},
   "source": [
    "### An example of the City of Austin road network\n",
    "\n",
    "The road network used in this example notebook can be downloaded from:\n",
    "\n",
    "https://data.austintexas.gov/Locations-and-Maps/Street-Centerline/m5w3-uea6"
   ]
  },
  {
   "cell_type": "code",
   "execution_count": null,
   "metadata": {},
   "outputs": [],
   "source": [
    "import geopandas\n",
    "\n",
    "# load data\n",
    "streets = geopandas.read_file('zip://./../data/Street_Centerline.zip')\n",
    "streets = streets.to_crs({'init': 'epsg:4326'})\n",
    "\n",
    "xs = []\n",
    "ys = []\n",
    "for s in streets.geometry.values:\n",
    "    try:\n",
    "        coords = s.coords.xy\n",
    "        xs += coords[0].tolist()\n",
    "        ys += coords[1].tolist()\n",
    "        \n",
    "        xs.append(np.nan)\n",
    "        ys.append(np.nan)\n",
    "    except:\n",
    "        continue\n",
    "        \n",
    "street_df = pd.DataFrame(dict(x=xs, y=ys))"
   ]
  },
  {
   "cell_type": "code",
   "execution_count": null,
   "metadata": {},
   "outputs": [],
   "source": [
    "H, W = 600, 800\n",
    "\n",
    "xrange = (-98.170507844129, -97.36979731249)\n",
    "yrange = (29.995950090365, 30.654731756587)\n",
    "\n",
    "cvs = ds.Canvas(plot_width=W, plot_height=H,\n",
    "                x_range=xrange, y_range=yrange)\n",
    "\n",
    "street_agg = cvs.line(street_df, x='x', y='y').astype(int)\n",
    "street_shaded = dynspread(shade(street_agg, cmap=['salmon']))\n",
    "\n",
    "# Pick two locations\n",
    "start = (-97.9, 30.1)\n",
    "goal  = (-97.5, 30.5)\n",
    "\n",
    "location_df = pd.DataFrame({'x': [start[0], goal[0]], 'y': [start[1], goal[1]]})\n",
    "location_agg = cvs.points(location_df, 'x', 'y')\n",
    "location_shaded = dynspread(shade(location_agg, cmap=['green']), threshold=1, max_px=5)\n",
    "\n",
    "set_background(stack(street_shaded, location_shaded), 'black')"
   ]
  },
  {
   "cell_type": "code",
   "execution_count": null,
   "metadata": {},
   "outputs": [],
   "source": [
    "# find the path from start to goal, \n",
    "# barriers are uncrossable cells. In this case, they are cells with a value of 0\n",
    "# use 8-connectivity as defaulted\n",
    "\n",
    "path_agg = a_star_search(street_agg, start, goal, barriers=[0], snap_start=True, snap_goal=True)\n",
    "\n",
    "path_shaded = dynspread(shade(path_agg, cmap=['lime']))\n",
    "set_background(stack(street_shaded, path_shaded, location_shaded), 'black')"
   ]
  },
  {
   "cell_type": "markdown",
   "metadata": {},
   "source": [
    "\n",
    "\n",
    "\n",
    "### References\n",
    "\n",
    "- A* search algorithm: https://en.wikipedia.org/wiki/A*_search_algorithm"
   ]
  }
 ],
 "metadata": {
  "language_info": {
   "name": "python"
  }
 },
 "nbformat": 4,
 "nbformat_minor": 2
}
