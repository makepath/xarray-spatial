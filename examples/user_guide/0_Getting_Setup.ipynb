{
 "cells": [
  {
   "cell_type": "markdown",
   "metadata": {},
   "source": [
    "# Xarray-spatial\n",
    "### User Guide: Getting Set-up"
   ]
  },
  {
   "cell_type": "markdown",
   "metadata": {},
   "source": [
    "### Installation\n",
    "\n",
    "The package can be easily installed via conda or pip. \n",
    "\n",
    "#### To install with conda run:\n",
    "    conda install -c conda-forge xarray-spatial\n",
    "\n",
    "#### To install with pip run:\n",
    "    pip install xarray-spatial\n",
    "\n",
    "#### To verify whether the installation was successful, open a Python session and import the package:\n",
    "    import xrspatial"
   ]
  }
 ],
 "metadata": {
  "language_info": {
   "name": "python"
  }
 },
 "nbformat": 4,
 "nbformat_minor": 4
}