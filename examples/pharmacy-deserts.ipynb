{
 "cells": [
  {
   "cell_type": "markdown",
   "metadata": {},
   "source": [
    "# Quantifying Pharmacy Deserts with Xarray-spatial\n",
    "\n",
    "In this notebook, we'll demonstrate using Xarray-spatial to find and map the locations of pharmacy deserts in the USA."
   ]
  },
  {
   "cell_type": "markdown",
   "metadata": {},
   "source": [
    "### Setup:\n",
    "\n",
    "First, we'll import some basic data and geospatial data-related packages. We'll also bring in some datashader functions for aggregation and rendering. And, finally, we'll import the Xarray-spatial functions we'll be using. "
   ]
  },
  {
   "cell_type": "code",
   "execution_count": null,
   "metadata": {},
   "outputs": [],
   "source": [
    "import numpy as np\n",
    "import pandas as pd\n",
    "import geopandas as gpd\n",
    "from spatialpandas import GeoDataFrame\n",
    "\n",
    "import datashader as ds\n",
    "from datashader.transfer_functions import stack\n",
    "from datashader.transfer_functions import shade\n",
    "from datashader.transfer_functions import set_background\n",
    "from datashader.colors import inferno\n",
    "\n",
    "from xrspatial.classify import natural_breaks\n",
    "from xrspatial.classify import binary\n",
    "from xrspatial import proximity"
   ]
  },
  {
   "cell_type": "markdown",
   "metadata": {},
   "source": [
    "## Load data\n",
    "\n",
    "Let's load up the data we'll be playing with today: US pharmacy facilities, US block group data, and a US counties shapefile.\n",
    "\n",
    "### Data Sources\n",
    "- [Facilities CSV](https://rxopen.org/)\n",
    "- [US Block Groups Shapefile](https://hub.arcgis.com/datasets/esri::usa-block-groups/data?geometry=-166.940%2C28.846%2C167.571%2C67.170)\n",
    "- [US Counties Shapefile](https://hub.arcgis.com/datasets/48f9af87daa241c4b267c5931ad3b226_0?geometry=-166.940%2C28.846%2C167.571%2C67.170)"
   ]
  },
  {
   "cell_type": "markdown",
   "metadata": {},
   "source": [
    "First, we'll create a DataFrame of pharmacy facility locations and clean that up a bit and set the coordinates."
   ]
  },
  {
   "cell_type": "code",
   "execution_count": null,
   "metadata": {},
   "outputs": [],
   "source": [
    "# Load Pharmacies and add out x, y fields based on CalcLocation\n",
    "pharmacy_df = pd.read_csv(\"./data/facilities.csv\")\n",
    "coords = pharmacy_df['CalcLocation'].str.split(',', expand=True)\n",
    "pharmacy_df['y'] = np.array(coords[0], dtype='float64')\n",
    "pharmacy_df['x'] = np.array(coords[1], dtype='float64')\n",
    "pharmacy_df"
   ]
  },
  {
   "cell_type": "markdown",
   "metadata": {},
   "source": [
    "Next, we'll do the same for the US block group data, but we'll use geopandas for this, because it involves spatial data.\n",
    "We'll also group together all age groups above 65 to simplify things a bit. "
   ]
  },
  {
   "cell_type": "code",
   "execution_count": null,
   "metadata": {},
   "outputs": [],
   "source": [
    "# Load Census Block Groups and Calculate Percent over 65 years-old\n",
    "blockgroup_df = gpd.read_file(\"zip://./data/USA_Block_Groups-shp.zip\")\n",
    "blockgroup_df = GeoDataFrame(blockgroup_df, geometry='geometry')\n",
    "blockgroup_df['ABOVE_65'] = blockgroup_df[['AGE_65_74', 'AGE_75_84', 'AGE_85_UP']].sum(axis=1) \n",
    "blockgroup_df['PCT_ABOVE_65'] = blockgroup_df['ABOVE_65'] / blockgroup_df['POP2010']\n",
    "blockgroup_df"
   ]
  },
  {
   "cell_type": "markdown",
   "metadata": {},
   "source": [
    "And, we'll do the same again for the counties data."
   ]
  },
  {
   "cell_type": "code",
   "execution_count": null,
   "metadata": {},
   "outputs": [],
   "source": [
    "# Load Census County and Calculate Percent over 65 years-old\n",
    "county_df = gpd.read_file(\"zip://./data/USA_Counties-shp.zip\")\n",
    "county_df = GeoDataFrame(county_df, geometry='geometry')\n",
    "county_df['ZONE_ID'] = county_df['OBJECTID'].astype(np.int16)\n",
    "county_df"
   ]
  },
  {
   "cell_type": "markdown",
   "metadata": {},
   "source": [
    "## Define Study Area and aggregate:\n",
    "\n",
    "Now we're ready to set up our aggregate rasters (data that's been aggregated into the regular row-column cell format of a raster image) and then perform calculations on those rasters and combine them in informative ways."
   ]
  },
  {
   "cell_type": "markdown",
   "metadata": {},
   "source": [
    "The first raster we'll set up is the counties mask; we'll use this one to make our other rasters fit with county shapes.\n",
    "\n",
    "- We set a range for for our x and y coordinates in longitude and latitude values.\n",
    "- We use datashader's Canvas object as an easy-to-use frame to build up a raster with and aggregate data into.\n",
    "- Finally, we aggregate the county shapes - polygons - into that raster. \n",
    "\n",
    "A quick shade and transformation with datashader functions visualizes our mask set-up."
   ]
  },
  {
   "cell_type": "code",
   "execution_count": null,
   "metadata": {},
   "outputs": [],
   "source": [
    "x_range = (-124.848974, -66.885444)\n",
    "y_range = (24.396308, 49.384358)\n",
    "\n",
    "W = 1600\n",
    "H = 800\n",
    "\n",
    "cvs = ds.Canvas(plot_width=W, plot_height=H,\n",
    "                x_range=x_range, y_range=y_range)\n",
    "\n",
    "county_mask = cvs.polygons(county_df, geometry='geometry')\n",
    "set_background(shade(county_mask, cmap='#333333', alpha=255), 'black')"
   ]
  },
  {
   "cell_type": "markdown",
   "metadata": {},
   "source": [
    "Now we can set up the other rasters and use some Xarray-spatial functions to quantify pharmacy distances, age groups, and county data, and how they relate to each other."
   ]
  },
  {
   "cell_type": "markdown",
   "metadata": {},
   "source": [
    "### Create a \"Distance to Nearest Pharmacy\" Raster Layer & Classify into 4 Groups\n",
    "\n",
    "First, we'll create a pharmacy locations raster layer by aggregating our pharmacies DataFrame from above.\n",
    "Using `proximity`, we can create transform this into a raster of the distances for each point to its nearest pharmacy.\n",
    "We can also further orgnaize this by applying Xarray-spatial's `natural_breaks` reclassification function. This will break up our proximity data into neat bins so it's easier to visualize and interpret."
   ]
  },
  {
   "cell_type": "code",
   "execution_count": null,
   "metadata": {},
   "outputs": [],
   "source": [
    "pharmacy_raster = cvs.points(pharmacy_df, 'x', 'y')\n",
    "proximity_raster = proximity(pharmacy_raster, distance_metric='GREAT_CIRCLE').where(county_mask)\n",
    "proximity_raster.data[~np.isfinite(proximity_raster.data)] = 0.0\n",
    "\n",
    "proximity_classifed = natural_breaks(proximity_raster, 20000, k=4).where(county_mask)\n",
    "\n",
    "image_pharmacy = shade(proximity_classifed, cmap=inferno, alpha=255)\n",
    "image_pharmacy = set_background(image_pharmacy, 'black')\n",
    "image_pharmacy"
   ]
  },
  {
   "cell_type": "markdown",
   "metadata": {},
   "source": [
    "### Create an Age Layer  & Classify into 4 Groups\n",
    "\n",
    "Next, we'll create an age groups raster from the block group DataFrame above.\n",
    "We'll also reclassify this with `natural_breaks` to make it easier to map."
   ]
  },
  {
   "cell_type": "code",
   "execution_count": null,
   "metadata": {},
   "outputs": [],
   "source": [
    "age_raster = cvs.polygons(blockgroup_df, geometry='geometry', agg=ds.mean('PCT_ABOVE_65'))\n",
    "age_raster.data[~np.isfinite(age_raster.data)] = 0.0\n",
    "\n",
    "age_classifed = natural_breaks(age_raster, 20000, k=4).where(county_mask)\n",
    "\n",
    "age_image = shade(age_classifed, cmap=inferno, alpha=255)\n",
    "age_image = set_background(age_image, 'black')\n",
    "age_image"
   ]
  },
  {
   "cell_type": "markdown",
   "metadata": {},
   "source": [
    "### Combine layers to highlight seniors at risk from pharmacy deserts\n",
    "\n",
    "Finally, we'll combine the county, age, and pharmacy distance raster layers to highlight counties where there are more seniors who are at greater distance from pharmacies."
   ]
  },
  {
   "cell_type": "code",
   "execution_count": null,
   "metadata": {},
   "outputs": [],
   "source": [
    "pharmacy_deserts = binary(proximity_classifed, [3])\n",
    "older_regions = binary(age_classifed, [3])\n",
    "target_deserts = (pharmacy_deserts * older_regions).where(county_mask)\n",
    "target_deserts_img = shade(target_deserts, cmap=['#333333', 'fuchsia'], alpha=255, how='linear')\n",
    "set_background(target_deserts_img, 'black')"
   ]
  },
  {
   "cell_type": "markdown",
   "metadata": {},
   "source": [
    "###  Summarize seniors at risk by county: the Zonal Statistics function\n",
    "\n",
    "The renderings above are great, but we might also want to summarize the quantitative info we just generated as a table with summary statistics. Xarray-spatial's zonal statisitics function lets us do that. \n",
    "\n",
    "`Zonal statistics` operates on a values raster by applying a zones aggregate to it. This is defined by creating an integer aggregate corresponding to the shape of the values raster, but with the value set at each cell to a non-zero integer that is the id of the zone we wish to put that cell in. `Zonal_stats` gathers the values for all cells assigned to each zone_id and generates summary statistics for each one. The output is a Pandas dataframe with the calculation results in columns and with a row for each zone."
   ]
  },
  {
   "cell_type": "markdown",
   "metadata": {},
   "source": [
    "#### Setup:\n",
    "\n",
    "First, we'll set up our counties raster as a background for the statistics we're about to generate and shade with some fun colors just to take a look at it now (just because we want a table of values, doesn't mean we can't also visualize it if we like)."
   ]
  },
  {
   "cell_type": "code",
   "execution_count": null,
   "metadata": {},
   "outputs": [],
   "source": [
    "from datashader.colors import Set1\n",
    "\n",
    "counties_raster = cvs.polygons(county_df, geometry='geometry', agg=ds.max('OBJECTID'))\n",
    "counties_image = shade(counties_raster, cmap=Set1, alpha=225, how='linear')\n",
    "set_background(counties_image, 'black')"
   ]
  },
  {
   "cell_type": "markdown",
   "metadata": {},
   "source": [
    "Now, let's generate those statistics.\n",
    "\n",
    "After a quick clean-up, we'll put our rasters in as arguments: we put counties as the zones, put target deserts as the values  \n",
    "to segregate into those zones, and provide a dict with our desired statistics function to perform.\n",
    "\n",
    "Note: `zonal_stats` comes with its own set of default calculations it will perform if the 3rd \"zonal_funcs\" argument is left empty, and please do feel free to clear that out and see what happens.\n",
    "But, for our purposes, all we need is a simple mean calculation, so we'll set that into a dict, which we'll put into zonal_stats.\n",
    "\n"
   ]
  },
  {
   "cell_type": "code",
   "execution_count": null,
   "metadata": {},
   "outputs": [],
   "source": [
    "from xrspatial import zonal_stats\n",
    "\n",
    "# zones\n",
    "counties_raster.data = counties_raster.data.astype(np.int64)\n",
    "\n",
    "# values to summarize\n",
    "target_deserts.data = target_deserts.data.astype(np.int8)\n",
    "\n",
    "# summary functions\n",
    "zonal_funcs = dict(pharmacy_desert_mean=lambda z: z.mean())\n",
    "\n",
    "# execute summary functions on each zone and take top 10\n",
    "results = zonal_stats(counties_raster, target_deserts, zonal_funcs)"
   ]
  },
  {
   "cell_type": "markdown",
   "metadata": {},
   "source": [
    "Now we can merge this results DataFrame back into the original counties one. "
   ]
  },
  {
   "cell_type": "code",
   "execution_count": null,
   "metadata": {},
   "outputs": [],
   "source": [
    "cols = ['pharmacy_desert_mean', 'NAME', 'STATE_FIPS', 'geometry']\n",
    "final_df = pd.merge(county_df, results, left_on='ZONE_ID', right_index=True)[cols]\n",
    "final_df.nlargest(10, 'pharmacy_desert_mean')"
   ]
  },
  {
   "cell_type": "markdown",
   "metadata": {},
   "source": [
    "Finally, we'll rasterize and shade these to visualize the results. We've highlighted the 100 counties with the highest pharmacy desert measures for seniors and shaded them by how much distance away, on average, the pharamcies are."
   ]
  },
  {
   "cell_type": "code",
   "execution_count": null,
   "metadata": {},
   "outputs": [],
   "source": [
    "from xrspatial import hillshade\n",
    "\n",
    "counties_raster = cvs.polygons(county_df, geometry='geometry', agg=ds.max('OBJECTID'))\n",
    "\n",
    "desert_raster = cvs.polygons(final_df.nlargest(75, 'pharmacy_desert_mean'),\n",
    "                             geometry='geometry',\n",
    "                             agg=ds.mean('pharmacy_desert_mean'))\n",
    "\n",
    "county_mask = cvs.polygons(county_df, geometry='geometry')"
   ]
  },
  {
   "cell_type": "code",
   "execution_count": null,
   "metadata": {},
   "outputs": [],
   "source": [
    "img = stack(\n",
    "    shade(county_mask, cmap=['#0f9425'], alpha=255),\n",
    "    shade(counties_raster, cmap=['green', '#ffffff'], alpha=25),\n",
    "    shade(desert_raster, cmap=['white','#ff0000'], alpha=255),\n",
    "    shade(hillshade(desert_raster), cmap=['green', '#ff0000'], alpha=150),\n",
    ")\n",
    "set_background(img, 'black')"
   ]
  }
 ],
 "metadata": {
  "kernelspec": {
   "display_name": "Python 3",
   "language": "python",
   "name": "python3"
  },
  "language_info": {
   "codemirror_mode": {
    "name": "ipython",
    "version": 3
   },
   "file_extension": ".py",
   "mimetype": "text/x-python",
   "name": "python",
   "nbconvert_exporter": "python",
   "pygments_lexer": "ipython3",
   "version": "3.8.10"
  }
 },
 "nbformat": 4,
 "nbformat_minor": 4
}
