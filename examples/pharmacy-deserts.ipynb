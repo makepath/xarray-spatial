{
 "cells": [
  {
   "cell_type": "markdown",
   "metadata": {},
   "source": [
    "# Using Xarray-Spatial and Datashader to Quantify Pharmacy Deserts"
   ]
  },
  {
   "cell_type": "markdown",
   "metadata": {},
   "source": [
    "## Environment Set-up\n",
    "\n",
    "1. `conda create -n pharmacy-deserts python=3.8`\n",
    "\n",
    "2. `conda activate pharmacy-deserts`\n",
    "\n",
    "3. `conda install -c conda-forge jupyterlab`\n",
    "\n",
    "4. `pip3 install numba==0.48.0`\n",
    "\n",
    "5. `conda install datashader`\n",
    "\n",
    "6. `conda install geopandas`\n",
    "\n",
    "7. `conda install -c conda-forge xarray-spatial`\n",
    "\n",
    "8. `conda install -c pyviz spatialpandas`\n",
    "\n",
    "9. `conda install -c conda-forge geos=3.7.1`\n",
    "\n"
   ]
  },
  {
   "cell_type": "code",
   "execution_count": null,
   "metadata": {},
   "outputs": [],
   "source": [
    "import datashader as ds\n",
    "import numpy as np\n",
    "import pandas as pd\n",
    "import geopandas as gpd\n",
    "\n",
    "from datashader.transfer_functions import stack\n",
    "from datashader.transfer_functions import shade\n",
    "from datashader.transfer_functions import set_background\n",
    "from datashader.colors import inferno\n",
    "\n",
    "from xrspatial.classify import natural_breaks\n",
    "from xrspatial.classify import binary\n",
    "from xrspatial import proximity\n",
    "\n",
    "from spatialpandas import GeoDataFrame"
   ]
  },
  {
   "cell_type": "markdown",
   "metadata": {},
   "source": [
    "## Load data\n",
    "\n",
    "### Data Sources\n",
    "- [Facilities CSV](https://rxopen.org/)\n",
    "- [US Block Groups Shapefile](https://hub.arcgis.com/datasets/esri::usa-block-groups/data?geometry=-166.940%2C28.846%2C167.571%2C67.170)\n",
    "- [US Counties Shapefile](https://hub.arcgis.com/datasets/48f9af87daa241c4b267c5931ad3b226_0?geometry=-166.940%2C28.846%2C167.571%2C67.170)"
   ]
  },
  {
   "cell_type": "code",
   "execution_count": null,
   "metadata": {},
   "outputs": [],
   "source": [
    "# Load Pharmacies and add out x, y fields based on CalcLocation\n",
    "pharmacy_df = pd.read_csv(r\"./data/facilities.csv\")\n",
    "coords = pharmacy_df['CalcLocation'].str.split(',', expand=True)\n",
    "pharmacy_df['y'] = np.array(coords[0], dtype='float64')\n",
    "pharmacy_df['x'] = np.array(coords[1], dtype='float64')\n",
    "pharmacy_df"
   ]
  },
  {
   "cell_type": "code",
   "execution_count": null,
   "metadata": {},
   "outputs": [],
   "source": [
    "# Load Census Block Groups and Calculate Percent over 65 years-old\n",
    "blockgroup_df = GeoDataFrame(gpd.read_file(r\"./data/USA_Block_Groups.shp\"))\n",
    "blockgroup_df['ABOVE_65'] = blockgroup_df[['AGE_65_74', 'AGE_75_84', 'AGE_85_UP']].sum(axis=1) \n",
    "blockgroup_df['PCT_ABOVE_65'] = blockgroup_df['ABOVE_65'] / blockgroup_df['POP2010']\n",
    "blockgroup_df"
   ]
  },
  {
   "cell_type": "code",
   "execution_count": null,
   "metadata": {},
   "outputs": [],
   "source": [
    "# Load Census County and Calculate Percent over 65 years-old \n",
    "county_df = GeoDataFrame(gpd.read_file(r\"./data/USA_Counties.shp\"))\n",
    "county_df['ZONE_ID'] = county_df['OBJECTID'].astype(np.int16)\n",
    "county_df"
   ]
  },
  {
   "cell_type": "markdown",
   "metadata": {},
   "source": [
    "## Define Study Area"
   ]
  },
  {
   "cell_type": "code",
   "execution_count": null,
   "metadata": {},
   "outputs": [],
   "source": [
    "x_range = (-124.848974, -66.885444)\n",
    "y_range = (24.396308, 49.384358)\n",
    "\n",
    "W = 1600\n",
    "H = 800\n",
    "\n",
    "cvs = ds.Canvas(plot_width=W, plot_height=H,\n",
    "                x_range=x_range, y_range=y_range)\n",
    "\n",
    "county_mask = cvs.polygons(county_df, geometry='geometry')\n",
    "set_background(shade(county_mask, cmap='#333333', alpha=255), 'black')"
   ]
  },
  {
   "cell_type": "markdown",
   "metadata": {},
   "source": [
    "### Create a \"Distance to Nearest Pharmacy\" Layer & Classify into 5 Groups"
   ]
  },
  {
   "cell_type": "code",
   "execution_count": null,
   "metadata": {},
   "outputs": [],
   "source": [
    "pharmacy_raster = cvs.points(pharmacy_df, 'x', 'y')\n",
    "proximity_raster = proximity(pharmacy_raster, distance_metric='GREAT_CIRCLE').where(county_mask)\n",
    "proximity_raster.data[~np.isfinite(proximity_raster.data)] = 0.0\n",
    "\n",
    "proximity_classifed = natural_breaks(proximity_raster, k=5).where(county_mask)\n",
    "\n",
    "image_pharmacy = shade(proximity_classifed, cmap=inferno, alpha=255)\n",
    "image_pharmacy = set_background(image_pharmacy, 'black')\n",
    "image_pharmacy"
   ]
  },
  {
   "cell_type": "markdown",
   "metadata": {},
   "source": [
    "### Create an Age Layer  & Classify into 5 Groups"
   ]
  },
  {
   "cell_type": "code",
   "execution_count": null,
   "metadata": {},
   "outputs": [],
   "source": [
    "age_raster = cvs.polygons(blockgroup_df, geometry='geometry', agg=ds.mean('PCT_ABOVE_65'))\n",
    "age_raster.data[~np.isfinite(age_raster.data)] = 0.0\n",
    "age_classifed = natural_breaks(age_raster, k=5).where(county_mask)\n",
    "\n",
    "age_image = shade(age_classifed, cmap=inferno, alpha=255)\n",
    "age_image = set_background(age_image, 'black')\n",
    "age_image"
   ]
  },
  {
   "cell_type": "markdown",
   "metadata": {},
   "source": [
    "### Combine layers to highlight seniors at risk from pharmacy deserts"
   ]
  },
  {
   "cell_type": "code",
   "execution_count": null,
   "metadata": {},
   "outputs": [],
   "source": [
    "pharmacy_deserts = binary(proximity_classifed, [4.0])\n",
    "older_regions = binary(age_classifed, [4.0])\n",
    "target_deserts = (pharmacy_deserts * older_regions).where(county_mask)\n",
    "target_deserts_img = shade(target_deserts, cmap=['#333333', 'fuchsia'], alpha=255, how='linear')\n",
    "set_background(target_deserts_img, 'black')"
   ]
  },
  {
   "cell_type": "markdown",
   "metadata": {},
   "source": [
    "###  Summarize seniors at risk by county"
   ]
  },
  {
   "cell_type": "code",
   "execution_count": null,
   "metadata": {},
   "outputs": [],
   "source": [
    "from datashader.colors import Set1\n",
    "\n",
    "counties_raster = cvs.polygons(county_df, geometry='geometry', agg=ds.max('OBJECTID'))\n",
    "counties_image = shade(counties_raster, cmap=Set1, alpha=225, how='linear')\n",
    "set_background(counties_image, 'black')"
   ]
  },
  {
   "cell_type": "markdown",
   "metadata": {},
   "source": [
    "## Zonal Statistics\n",
    "\n",
    "Zonal statistics allows for calculating summary statistics for specific areas or zones within a datashader aggregate. Zones are defined by creating an integer aggregate where the cell values are zone_ids. The output of zonal statistics is a Pandas dataframe containing summary statistics for each zone based on a value raster.\n"
   ]
  },
  {
   "cell_type": "code",
   "execution_count": null,
   "metadata": {},
   "outputs": [],
   "source": [
    "from xrspatial import zonal_stats\n",
    "\n",
    "# summary functions\n",
    "zonal_funcs = dict(pharmacy_desert_mean=lambda z: z.mean())\n",
    "\n",
    "# zones\n",
    "counties_raster.data = counties_raster.data.astype(np.int64)\n",
    "\n",
    "# values to summarize\n",
    "target_deserts.data = target_deserts.data.astype(np.int8)\n",
    "\n",
    "# execute summary functions on each zone and take top 10\n",
    "results = zonal_stats(counties_raster, target_deserts, zonal_funcs)"
   ]
  },
  {
   "cell_type": "markdown",
   "metadata": {},
   "source": [
    "### Join result back to counties layer"
   ]
  },
  {
   "cell_type": "code",
   "execution_count": null,
   "metadata": {},
   "outputs": [],
   "source": [
    "\n",
    "cols = ['pharmacy_desert_mean', 'NAME', 'STATE_FIPS', 'geometry']\n",
    "final_df = pd.merge(county_df, results, left_on='ZONE_ID', right_index=True)[cols]\n",
    "final_df.nlargest(10, 'pharmacy_desert_mean')"
   ]
  },
  {
   "cell_type": "code",
   "execution_count": null,
   "metadata": {},
   "outputs": [],
   "source": [
    "from xrspatial import hillshade\n",
    "\n",
    "counties_raster = cvs.polygons(county_df, geometry='geometry', agg=ds.max('OBJECTID'))\n",
    "\n",
    "desert_raster = cvs.polygons(final_df.nlargest(10, 'pharmacy_desert_mean'),\n",
    "                             geometry='geometry',\n",
    "                             agg=ds.mean('pharmacy_desert_mean'))\n",
    "\n",
    "county_mask = cvs.polygons(county_df, geometry='geometry')"
   ]
  },
  {
   "cell_type": "code",
   "execution_count": null,
   "metadata": {},
   "outputs": [],
   "source": [
    "img = stack(\n",
    "    shade(county_mask, cmap=['#333333'], alpha=255),\n",
    "    shade(counties_raster, cmap=['#333333', '#ffffff'], alpha=25),\n",
    "    shade(desert_raster, cmap=['#333333','#ff0000'], alpha=200),\n",
    "    shade(hillshade(desert_raster), cmap=['#333333', '#ff0000'], alpha=100),\n",
    ")\n",
    "set_background(img, 'black')"
   ]
  },
  {
   "cell_type": "code",
   "execution_count": null,
   "metadata": {},
   "outputs": [],
   "source": []
  }
 ],
 "metadata": {
  "language_info": {
   "name": "python"
  }
 },
 "nbformat": 4,
 "nbformat_minor": 4
}
