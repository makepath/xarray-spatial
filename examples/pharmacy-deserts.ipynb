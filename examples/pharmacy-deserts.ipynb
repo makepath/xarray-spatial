{
 "cells": [
  {
   "cell_type": "markdown",
   "metadata": {},
   "source": [
    "# Using Xarray-Spatial and Datashader to Quantify Pharmacy Deserts"
   ]
  },
  {
   "cell_type": "code",
   "execution_count": 18,
   "metadata": {},
   "outputs": [],
   "source": [
    "import datashader as ds\n",
    "import numpy as np\n",
    "import pandas as pd\n",
    "import geopandas as gpd\n",
    "\n",
    "from datashader.transfer_functions import stack\n",
    "from datashader.transfer_functions import shade\n",
    "from datashader.transfer_functions import set_background\n",
    "from datashader.colors import inferno\n",
    "\n",
    "from xrspatial.classify import natural_breaks\n",
    "from xrspatial.classify import binary\n",
    "from xrspatial import proximity\n",
    "\n",
    "from spatialpandas import GeoDataFrame"
   ]
  },
  {
   "cell_type": "markdown",
   "metadata": {},
   "source": [
    "## Load data"
   ]
  },
  {
   "cell_type": "code",
   "execution_count": 19,
   "metadata": {},
   "outputs": [],
   "source": [
    "# Load Pharmacies and add out x, y fields based on CalcLocation\n",
    "pharmacy_df = pd.read_csv(r\"C:\\Users\\sapir\\Downloads\\facility.csv\")\n",
    "coords = pharmacy_df['CalcLocation'].str.split(',', expand=True)\n",
    "pharmacy_df['y'] = np.array(coords[0], dtype='float64')\n",
    "pharmacy_df['x'] = np.array(coords[1], dtype='float64')"
   ]
  },
  {
   "cell_type": "code",
   "execution_count": 20,
   "metadata": {},
   "outputs": [],
   "source": [
    "# Load Census Block Groups and Calculate Percent over 65 years-old\n",
    "blockgroup_df = GeoDataFrame(gpd.read_file(r\"C:\\Users\\sapir\\Downloads\\USA_Block_Groups-shp\\USA_Block_Groups.shp\"))\n",
    "blockgroup_df['ABOVE_65'] = blockgroup_df[['AGE_65_74', 'AGE_75_84', 'AGE_85_UP']].sum(axis=1) \n",
    "blockgroup_df['PCT_ABOVE_65'] = blockgroup_df['ABOVE_65'] / blockgroup_df['POP2010']"
   ]
  },
  {
   "cell_type": "code",
   "execution_count": 21,
   "metadata": {},
   "outputs": [
    {
     "output_type": "execute_result",
     "data": {
      "text/plain": [
       "        OBJECTID_1  ObjectID STATE_FIPS CNTY_FIPS STCOFIPS   TRACT BLKGRP  \\\n",
       "0                1         0         48       167    48167  724101      1   \n",
       "1                2         1         48       245    48245  000600      6   \n",
       "2                3         2         48       167    48167  724300      5   \n",
       "3                4         3         48       071    48071  710200      3   \n",
       "4                5         4         48       167    48167  724200      2   \n",
       "...            ...       ...        ...       ...      ...     ...    ...   \n",
       "219824      219827    219826         26       115    26115  990000      0   \n",
       "219825      219828    219827         72       033    72033  990201      0   \n",
       "219826      219829    219828         12       057    12057  990000      0   \n",
       "219827      219830    219829         37       019    37019  990100      0   \n",
       "219828      219831    219830         22       075    22075  990000      0   \n",
       "\n",
       "                FIPS  POP2010  POP10_SQMI  ...  FAMILIES  AVE_FAM_SZ  \\\n",
       "0       481677241011      477       132.5  ...        97        2.57   \n",
       "1       482450006006     1260      6000.0  ...       317        3.46   \n",
       "2       481677243005      604      7550.0  ...       123        3.07   \n",
       "3       480717102003     5276       150.0  ...      1455        3.41   \n",
       "4       481677242002      906     11325.0  ...       186        2.81   \n",
       "...              ...      ...         ...  ...       ...         ...   \n",
       "219824  261159900000        0         0.0  ...         0        0.00   \n",
       "219825  720339902010      -99       -99.0  ...       -99      -99.00   \n",
       "219826  120579900000        0         0.0  ...         0        0.00   \n",
       "219827  370199901000        0         0.0  ...         0        0.00   \n",
       "219828  220759900000        0         0.0  ...         0        0.00   \n",
       "\n",
       "        HSE_UNITS  VACANT  OWNER_OCC  RENTER_OCC   SQMI  \\\n",
       "0             799     550         78         171   3.60   \n",
       "1             472      45        262         165   0.21   \n",
       "2             424     139         87         198   0.08   \n",
       "3            1709      76       1548          85  35.18   \n",
       "4             604     120         74         410   0.08   \n",
       "...           ...     ...        ...         ...    ...   \n",
       "219824          0       0          0           0   0.19   \n",
       "219825        -99     -99        -99         -99   0.00   \n",
       "219826          0       0          0           0   1.79   \n",
       "219827          0       0          0           0   0.56   \n",
       "219828          0       0          0           0   2.79   \n",
       "\n",
       "                                                 geometry  ABOVE_65  \\\n",
       "0       MultiPolygon([[[-94.7372579289103, 29.32428411...       140   \n",
       "1       MultiPolygon([[[-94.1277140349747, 30.12067592...        76   \n",
       "2       MultiPolygon([[[-94.7732350204798, 29.30697297...        60   \n",
       "3       MultiPolygon([[[-94.7161589478771, 29.72786202...       218   \n",
       "4       MultiPolygon([[[-94.7696420580345, 29.31721401...        70   \n",
       "...                                                   ...       ...   \n",
       "219824  MultiPolygon([[[-83.3855070111396, 41.87580502...         0   \n",
       "219825  MultiPolygon([[[-66.1310319480659, 18.44882092...      -297   \n",
       "219826  MultiPolygon([[[-82.4328329499806, 27.82253797...         0   \n",
       "219827  MultiPolygon([[[-78.4868539895199, 33.87145592...         0   \n",
       "219828  MultiPolygon([[[-89.2973219156265, 29.04727900...         0   \n",
       "\n",
       "        PCT_ABOVE_65  \n",
       "0           0.293501  \n",
       "1           0.060317  \n",
       "2           0.099338  \n",
       "3           0.041319  \n",
       "4           0.077263  \n",
       "...              ...  \n",
       "219824           NaN  \n",
       "219825      3.000000  \n",
       "219826           NaN  \n",
       "219827           NaN  \n",
       "219828           NaN  \n",
       "\n",
       "[219829 rows x 55 columns]"
      ],
      "text/html": "<div>\n<style scoped>\n    .dataframe tbody tr th:only-of-type {\n        vertical-align: middle;\n    }\n\n    .dataframe tbody tr th {\n        vertical-align: top;\n    }\n\n    .dataframe thead th {\n        text-align: right;\n    }\n</style>\n<table border=\"1\" class=\"dataframe\">\n  <thead>\n    <tr style=\"text-align: right;\">\n      <th></th>\n      <th>OBJECTID_1</th>\n      <th>ObjectID</th>\n      <th>STATE_FIPS</th>\n      <th>CNTY_FIPS</th>\n      <th>STCOFIPS</th>\n      <th>TRACT</th>\n      <th>BLKGRP</th>\n      <th>FIPS</th>\n      <th>POP2010</th>\n      <th>POP10_SQMI</th>\n      <th>...</th>\n      <th>FAMILIES</th>\n      <th>AVE_FAM_SZ</th>\n      <th>HSE_UNITS</th>\n      <th>VACANT</th>\n      <th>OWNER_OCC</th>\n      <th>RENTER_OCC</th>\n      <th>SQMI</th>\n      <th>geometry</th>\n      <th>ABOVE_65</th>\n      <th>PCT_ABOVE_65</th>\n    </tr>\n  </thead>\n  <tbody>\n    <tr>\n      <th>0</th>\n      <td>1</td>\n      <td>0</td>\n      <td>48</td>\n      <td>167</td>\n      <td>48167</td>\n      <td>724101</td>\n      <td>1</td>\n      <td>481677241011</td>\n      <td>477</td>\n      <td>132.5</td>\n      <td>...</td>\n      <td>97</td>\n      <td>2.57</td>\n      <td>799</td>\n      <td>550</td>\n      <td>78</td>\n      <td>171</td>\n      <td>3.60</td>\n      <td>MultiPolygon([[[-94.7372579289103, 29.32428411...</td>\n      <td>140</td>\n      <td>0.293501</td>\n    </tr>\n    <tr>\n      <th>1</th>\n      <td>2</td>\n      <td>1</td>\n      <td>48</td>\n      <td>245</td>\n      <td>48245</td>\n      <td>000600</td>\n      <td>6</td>\n      <td>482450006006</td>\n      <td>1260</td>\n      <td>6000.0</td>\n      <td>...</td>\n      <td>317</td>\n      <td>3.46</td>\n      <td>472</td>\n      <td>45</td>\n      <td>262</td>\n      <td>165</td>\n      <td>0.21</td>\n      <td>MultiPolygon([[[-94.1277140349747, 30.12067592...</td>\n      <td>76</td>\n      <td>0.060317</td>\n    </tr>\n    <tr>\n      <th>2</th>\n      <td>3</td>\n      <td>2</td>\n      <td>48</td>\n      <td>167</td>\n      <td>48167</td>\n      <td>724300</td>\n      <td>5</td>\n      <td>481677243005</td>\n      <td>604</td>\n      <td>7550.0</td>\n      <td>...</td>\n      <td>123</td>\n      <td>3.07</td>\n      <td>424</td>\n      <td>139</td>\n      <td>87</td>\n      <td>198</td>\n      <td>0.08</td>\n      <td>MultiPolygon([[[-94.7732350204798, 29.30697297...</td>\n      <td>60</td>\n      <td>0.099338</td>\n    </tr>\n    <tr>\n      <th>3</th>\n      <td>4</td>\n      <td>3</td>\n      <td>48</td>\n      <td>071</td>\n      <td>48071</td>\n      <td>710200</td>\n      <td>3</td>\n      <td>480717102003</td>\n      <td>5276</td>\n      <td>150.0</td>\n      <td>...</td>\n      <td>1455</td>\n      <td>3.41</td>\n      <td>1709</td>\n      <td>76</td>\n      <td>1548</td>\n      <td>85</td>\n      <td>35.18</td>\n      <td>MultiPolygon([[[-94.7161589478771, 29.72786202...</td>\n      <td>218</td>\n      <td>0.041319</td>\n    </tr>\n    <tr>\n      <th>4</th>\n      <td>5</td>\n      <td>4</td>\n      <td>48</td>\n      <td>167</td>\n      <td>48167</td>\n      <td>724200</td>\n      <td>2</td>\n      <td>481677242002</td>\n      <td>906</td>\n      <td>11325.0</td>\n      <td>...</td>\n      <td>186</td>\n      <td>2.81</td>\n      <td>604</td>\n      <td>120</td>\n      <td>74</td>\n      <td>410</td>\n      <td>0.08</td>\n      <td>MultiPolygon([[[-94.7696420580345, 29.31721401...</td>\n      <td>70</td>\n      <td>0.077263</td>\n    </tr>\n    <tr>\n      <th>...</th>\n      <td>...</td>\n      <td>...</td>\n      <td>...</td>\n      <td>...</td>\n      <td>...</td>\n      <td>...</td>\n      <td>...</td>\n      <td>...</td>\n      <td>...</td>\n      <td>...</td>\n      <td>...</td>\n      <td>...</td>\n      <td>...</td>\n      <td>...</td>\n      <td>...</td>\n      <td>...</td>\n      <td>...</td>\n      <td>...</td>\n      <td>...</td>\n      <td>...</td>\n      <td>...</td>\n    </tr>\n    <tr>\n      <th>219824</th>\n      <td>219827</td>\n      <td>219826</td>\n      <td>26</td>\n      <td>115</td>\n      <td>26115</td>\n      <td>990000</td>\n      <td>0</td>\n      <td>261159900000</td>\n      <td>0</td>\n      <td>0.0</td>\n      <td>...</td>\n      <td>0</td>\n      <td>0.00</td>\n      <td>0</td>\n      <td>0</td>\n      <td>0</td>\n      <td>0</td>\n      <td>0.19</td>\n      <td>MultiPolygon([[[-83.3855070111396, 41.87580502...</td>\n      <td>0</td>\n      <td>NaN</td>\n    </tr>\n    <tr>\n      <th>219825</th>\n      <td>219828</td>\n      <td>219827</td>\n      <td>72</td>\n      <td>033</td>\n      <td>72033</td>\n      <td>990201</td>\n      <td>0</td>\n      <td>720339902010</td>\n      <td>-99</td>\n      <td>-99.0</td>\n      <td>...</td>\n      <td>-99</td>\n      <td>-99.00</td>\n      <td>-99</td>\n      <td>-99</td>\n      <td>-99</td>\n      <td>-99</td>\n      <td>0.00</td>\n      <td>MultiPolygon([[[-66.1310319480659, 18.44882092...</td>\n      <td>-297</td>\n      <td>3.000000</td>\n    </tr>\n    <tr>\n      <th>219826</th>\n      <td>219829</td>\n      <td>219828</td>\n      <td>12</td>\n      <td>057</td>\n      <td>12057</td>\n      <td>990000</td>\n      <td>0</td>\n      <td>120579900000</td>\n      <td>0</td>\n      <td>0.0</td>\n      <td>...</td>\n      <td>0</td>\n      <td>0.00</td>\n      <td>0</td>\n      <td>0</td>\n      <td>0</td>\n      <td>0</td>\n      <td>1.79</td>\n      <td>MultiPolygon([[[-82.4328329499806, 27.82253797...</td>\n      <td>0</td>\n      <td>NaN</td>\n    </tr>\n    <tr>\n      <th>219827</th>\n      <td>219830</td>\n      <td>219829</td>\n      <td>37</td>\n      <td>019</td>\n      <td>37019</td>\n      <td>990100</td>\n      <td>0</td>\n      <td>370199901000</td>\n      <td>0</td>\n      <td>0.0</td>\n      <td>...</td>\n      <td>0</td>\n      <td>0.00</td>\n      <td>0</td>\n      <td>0</td>\n      <td>0</td>\n      <td>0</td>\n      <td>0.56</td>\n      <td>MultiPolygon([[[-78.4868539895199, 33.87145592...</td>\n      <td>0</td>\n      <td>NaN</td>\n    </tr>\n    <tr>\n      <th>219828</th>\n      <td>219831</td>\n      <td>219830</td>\n      <td>22</td>\n      <td>075</td>\n      <td>22075</td>\n      <td>990000</td>\n      <td>0</td>\n      <td>220759900000</td>\n      <td>0</td>\n      <td>0.0</td>\n      <td>...</td>\n      <td>0</td>\n      <td>0.00</td>\n      <td>0</td>\n      <td>0</td>\n      <td>0</td>\n      <td>0</td>\n      <td>2.79</td>\n      <td>MultiPolygon([[[-89.2973219156265, 29.04727900...</td>\n      <td>0</td>\n      <td>NaN</td>\n    </tr>\n  </tbody>\n</table>\n<p>219829 rows × 55 columns</p>\n</div>"
     },
     "metadata": {},
     "execution_count": 21
    }
   ],
   "source": [
    "#del blockgroup_df['OBJECT_1']\n",
    "blockgroup_df"
   ]
  },
  {
   "cell_type": "code",
   "execution_count": 22,
   "metadata": {},
   "outputs": [
    {
     "output_type": "stream",
     "name": "stderr",
     "text": [
      "C:\\programs\\Anaconda3\\envs\\pharmacy-deserts\\lib\\site-packages\\ipykernel\\ipkernel.py:283: DeprecationWarning: `should_run_async` will not call `transform_cell` automatically in the future. Please pass the result to `transformed_cell` argument and any exception that happen during thetransform in `preprocessing_exc_tuple` in IPython 7.17 and above.\n  and should_run_async(code)\n"
     ]
    },
    {
     "output_type": "error",
     "ename": "NameError",
     "evalue": "name 'coun' is not defined",
     "traceback": [
      "\u001b[1;31m---------------------------------------------------------------------------\u001b[0m",
      "\u001b[1;31mNameError\u001b[0m                                 Traceback (most recent call last)",
      "\u001b[1;32m<ipython-input-22-626a466f29ca>\u001b[0m in \u001b[0;36m<module>\u001b[1;34m\u001b[0m\n\u001b[0;32m      2\u001b[0m \u001b[0mcounty_df\u001b[0m \u001b[1;33m=\u001b[0m \u001b[0mGeoDataFrame\u001b[0m\u001b[1;33m(\u001b[0m\u001b[0mgpd\u001b[0m\u001b[1;33m.\u001b[0m\u001b[0mread_file\u001b[0m\u001b[1;33m(\u001b[0m\u001b[1;34mr\"C:\\Users\\sapir\\Downloads\\USA_Counties-shp\\USA_Counties.shp\"\u001b[0m\u001b[1;33m)\u001b[0m\u001b[1;33m)\u001b[0m\u001b[1;33m\u001b[0m\u001b[1;33m\u001b[0m\u001b[0m\n\u001b[0;32m      3\u001b[0m \u001b[0mcounty_df\u001b[0m\u001b[1;33m[\u001b[0m\u001b[1;34m'ZONE_ID'\u001b[0m\u001b[1;33m]\u001b[0m \u001b[1;33m=\u001b[0m \u001b[0mcounty_df\u001b[0m\u001b[1;33m[\u001b[0m\u001b[1;34m'OBJECTID'\u001b[0m\u001b[1;33m]\u001b[0m\u001b[1;33m.\u001b[0m\u001b[0mastype\u001b[0m\u001b[1;33m(\u001b[0m\u001b[0mnp\u001b[0m\u001b[1;33m.\u001b[0m\u001b[0mint16\u001b[0m\u001b[1;33m)\u001b[0m\u001b[1;33m\u001b[0m\u001b[1;33m\u001b[0m\u001b[0m\n\u001b[1;32m----> 4\u001b[1;33m \u001b[0mcoun\u001b[0m\u001b[1;33m\u001b[0m\u001b[1;33m\u001b[0m\u001b[0m\n\u001b[0m",
      "\u001b[1;31mNameError\u001b[0m: name 'coun' is not defined"
     ]
    }
   ],
   "source": [
    "# Load Census County and Calculate Percent over 65 years-old\n",
    "county_df = GeoDataFrame(gpd.read_file(r\"C:\\Users\\sapir\\Downloads\\USA_Counties-shp\\USA_Counties.shp\"))\n",
    "county_df['ZONE_ID'] = county_df['OBJECTID'].astype(np.int16)\n",
    "county_df"
   ]
  },
  {
   "cell_type": "markdown",
   "metadata": {},
   "source": [
    "## Define Study Area"
   ]
  },
  {
   "cell_type": "code",
   "execution_count": null,
   "metadata": {},
   "outputs": [],
   "source": [
    "x_range = (-124.848974, -66.885444)\n",
    "y_range = (24.396308, 49.384358)\n",
    "\n",
    "W = 1600\n",
    "H = 800\n",
    "\n",
    "cvs = ds.Canvas(plot_width=W, plot_height=H,\n",
    "                x_range=x_range, y_range=y_range)\n",
    "\n",
    "county_mask = cvs.polygons(county_df, geometry='geometry')\n",
    "set_background(shade(county_mask, cmap='#333333', alpha=255), 'black')"
   ]
  },
  {
   "cell_type": "markdown",
   "metadata": {},
   "source": [
    "### Create a \"Distance to Nearest Pharmacy\" Layer & Classify into 5 Groups"
   ]
  },
  {
   "cell_type": "code",
   "execution_count": null,
   "metadata": {},
   "outputs": [],
   "source": [
    "pharmacy_raster = cvs.points(pharmacy_df, 'x', 'y')\n",
    "proximity_raster = proximity(pharmacy_raster, distance_metric='GREAT_CIRCLE').where(county_mask)\n",
    "proximity_raster.data[~np.isfinite(proximity_raster.data)] = 0.0\n",
    "\n",
    "proximity_classifed = natural_breaks(proximity_raster, k=5).where(county_mask)\n",
    "\n",
    "image_pharmacy = shade(proximity_classifed, cmap=inferno, alpha=255)\n",
    "image_pharmacy = set_background(image_pharmacy, 'black')\n",
    "#image_pharmacy"
   ]
  },
  {
   "cell_type": "markdown",
   "metadata": {},
   "source": [
    "### Create an Age Layer  & Classify into 5 Groups"
   ]
  },
  {
   "cell_type": "code",
   "execution_count": null,
   "metadata": {},
   "outputs": [],
   "source": [
    "age_raster = cvs.polygons(blockgroup_df, geometry='geometry', agg=ds.mean('PCT_ABOVE_65'))\n",
    "age_raster.data[~np.isfinite(age_raster.data)] = 0.0\n",
    "age_classifed = natural_breaks(age_raster, k=5).where(county_mask)\n",
    "\n",
    "age_image = shade(age_classifed, cmap=inferno, alpha=255)\n",
    "age_image = set_background(age_image, 'black')\n",
    "age_image"
   ]
  },
  {
   "cell_type": "markdown",
   "metadata": {},
   "source": [
    "### Combine layers to highlight seniors at risk from pharmacy deserts"
   ]
  },
  {
   "cell_type": "code",
   "execution_count": null,
   "metadata": {},
   "outputs": [],
   "source": [
    "pharmacy_deserts = binary(proximity_classifed, [4.0])\n",
    "older_regions = binary(age_classifed, [4.0])\n",
    "target_deserts = (pharmacy_deserts * older_regions).where(county_mask)\n",
    "target_deserts_img = shade(target_deserts, cmap=['#333333', 'fuchsia'], alpha=255, how='linear')\n",
    "set_background(target_deserts_img, 'black')"
   ]
  },
  {
   "cell_type": "markdown",
   "metadata": {},
   "source": [
    "###  Summarize seniors at risk by county"
   ]
  },
  {
   "cell_type": "code",
   "execution_count": null,
   "metadata": {},
   "outputs": [],
   "source": [
    "from datashader.colors import Set1\n",
    "\n",
    "counties_raster = cvs.polygons(county_df, geometry='geometry', agg=ds.max('OBJECTID'))\n",
    "counties_image = shade(counties_raster, cmap=Set1, alpha=225, how='linear')\n",
    "set_background(counties_image, 'black')"
   ]
  },
  {
   "cell_type": "markdown",
   "metadata": {},
   "source": [
    "## Zonal Statistics\n",
    "\n",
    "Zonal statistics allows for calculating summary statistics for specific areas or zones within a datashader aggregate. Zones are defined by creating an integer aggregate where the cell values are zone_ids. The output of zonal statistics is a Pandas dataframe containing summary statistics for each zone based on a value raster.\n"
   ]
  },
  {
   "cell_type": "code",
   "execution_count": null,
   "metadata": {},
   "outputs": [],
   "source": [
    "from xrspatial import zonal_stats\n",
    "\n",
    "# summary functions\n",
    "zonal_funcs = dict(pharmacy_desert_mean=lambda z: z.mean())\n",
    "\n",
    "# zones\n",
    "counties_raster.data = counties_raster.data.astype(np.int64)\n",
    "\n",
    "# values to summarize\n",
    "target_deserts.data = target_deserts.data.astype(np.int8)\n",
    "\n",
    "# execute summary functions on each zone and take top 10\n",
    "results = zonal_stats(counties_raster, target_deserts, zonal_funcs)"
   ]
  },
  {
   "cell_type": "markdown",
   "metadata": {},
   "source": [
    "### Join result back to counties layer"
   ]
  },
  {
   "cell_type": "code",
   "execution_count": null,
   "metadata": {},
   "outputs": [],
   "source": [
    "\n",
    "cols = ['pharmacy_desert_mean', 'NAME', 'STATEFP', 'geometry']\n",
    "final_df = pd.merge(county_df, results, left_on='ZONE_ID', right_index=True)[cols]\n",
    "final_df.nlargest(10, 'pharmacy_desert_mean')"
   ]
  },
  {
   "cell_type": "code",
   "execution_count": null,
   "metadata": {},
   "outputs": [],
   "source": [
    "from xrspatial import hillshade\n",
    "\n",
    "counties_raster = cvs.polygons(county_df, geometry='geometry', agg=ds.max('OBJECTID'))\n",
    "\n",
    "desert_raster = cvs.polygons(final_df.nlargest(10, 'pharmacy_desert_mean'),\n",
    "                             geometry='geometry',\n",
    "                             agg=ds.mean('pharmacy_desert_mean'))\n",
    "\n",
    "county_mask = cvs.polygons(county_df, geometry='geometry')"
   ]
  },
  {
   "cell_type": "code",
   "execution_count": null,
   "metadata": {},
   "outputs": [],
   "source": [
    "img = stack(\n",
    "    shade(county_mask, cmap=['#333333'], alpha=255),\n",
    "    shade(counties_raster, cmap=['#333333', '#ffffff'], alpha=25),\n",
    "    shade(desert_raster, cmap=['#333333','#ff0000'], alpha=200),\n",
    "    shade(hillshade(desert_raster), cmap=['#333333', '#ff0000'], alpha=100),\n",
    ")\n",
    "set_background(img, 'black')"
   ]
  },
  {
   "cell_type": "code",
   "execution_count": null,
   "metadata": {},
   "outputs": [],
   "source": []
  }
 ],
 "metadata": {
  "kernelspec": {
   "name": "python3",
   "display_name": "Python 3.8.8 64-bit ('pharmacy-deserts': conda)",
   "metadata": {
    "interpreter": {
     "hash": "2789e4d57ca2f7ce8647750f18313c687c12080d0611b611ef4cb62d95ed7528"
    }
   }
  },
  "language_info": {
   "codemirror_mode": {
    "name": "ipython",
    "version": 3
   },
   "file_extension": ".py",
   "mimetype": "text/x-python",
   "name": "python",
   "nbconvert_exporter": "python",
   "pygments_lexer": "ipython3",
   "version": "3.8.8-final"
  }
 },
 "nbformat": 4,
 "nbformat_minor": 4
}